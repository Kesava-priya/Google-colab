{
  "cells": [
    {
      "cell_type": "markdown",
      "metadata": {
        "id": "view-in-github",
        "colab_type": "text"
      },
      "source": [
        "<a href=\"https://colab.research.google.com/github/Kesava-priya/Google-colab/blob/main/Kesava_Priya_100numpy_Task2.ipynb\" target=\"_parent\"><img src=\"https://colab.research.google.com/assets/colab-badge.svg\" alt=\"Open In Colab\"/></a>"
      ]
    },
    {
      "cell_type": "markdown",
      "id": "f44a2f2b",
      "metadata": {
        "id": "f44a2f2b"
      },
      "source": [
        "# 100 numpy exercises\n"
      ]
    },
    {
      "cell_type": "markdown",
      "id": "0fe3d529",
      "metadata": {
        "id": "0fe3d529"
      },
      "source": [
        "File automatically generated. See the documentation to update questions/answers/hints programmatically."
      ]
    },
    {
      "cell_type": "markdown",
      "id": "23296a93",
      "metadata": {
        "id": "23296a93"
      },
      "source": [
        "Run the `initialize.py` module, then for each question you can query the\n",
        "answer or an hint with `hint(n)` or `answer(n)` for `n` question number."
      ]
    },
    {
      "cell_type": "code",
      "execution_count": null,
      "id": "530390cf",
      "metadata": {
        "id": "530390cf"
      },
      "outputs": [],
      "source": [
        "%run initialise.py"
      ]
    },
    {
      "cell_type": "markdown",
      "id": "96443564",
      "metadata": {
        "id": "96443564"
      },
      "source": [
        "#### 1. Import the numpy package under the name `np` (★☆☆)"
      ]
    },
    {
      "cell_type": "code",
      "execution_count": null,
      "id": "ffe1047e",
      "metadata": {
        "id": "ffe1047e"
      },
      "outputs": [],
      "source": [
        "import numpy as np"
      ]
    },
    {
      "cell_type": "markdown",
      "id": "c807bf1d",
      "metadata": {
        "id": "c807bf1d"
      },
      "source": [
        "#### 2. Print the numpy version and the configuration (★☆☆)"
      ]
    },
    {
      "cell_type": "code",
      "execution_count": null,
      "id": "f396b717",
      "metadata": {
        "id": "f396b717",
        "outputId": "32b444b2-00c8-4349-a07c-1de8c77110b5",
        "colab": {
          "base_uri": "https://localhost:8080/"
        }
      },
      "outputs": [
        {
          "output_type": "stream",
          "name": "stdout",
          "text": [
            "1.21.6\n",
            "blas_mkl_info:\n",
            "  NOT AVAILABLE\n",
            "blis_info:\n",
            "  NOT AVAILABLE\n",
            "openblas_info:\n",
            "    libraries = ['openblas', 'openblas']\n",
            "    library_dirs = ['/usr/local/lib']\n",
            "    language = c\n",
            "    define_macros = [('HAVE_CBLAS', None)]\n",
            "    runtime_library_dirs = ['/usr/local/lib']\n",
            "blas_opt_info:\n",
            "    libraries = ['openblas', 'openblas']\n",
            "    library_dirs = ['/usr/local/lib']\n",
            "    language = c\n",
            "    define_macros = [('HAVE_CBLAS', None)]\n",
            "    runtime_library_dirs = ['/usr/local/lib']\n",
            "lapack_mkl_info:\n",
            "  NOT AVAILABLE\n",
            "openblas_lapack_info:\n",
            "    libraries = ['openblas', 'openblas']\n",
            "    library_dirs = ['/usr/local/lib']\n",
            "    language = c\n",
            "    define_macros = [('HAVE_CBLAS', None)]\n",
            "    runtime_library_dirs = ['/usr/local/lib']\n",
            "lapack_opt_info:\n",
            "    libraries = ['openblas', 'openblas']\n",
            "    library_dirs = ['/usr/local/lib']\n",
            "    language = c\n",
            "    define_macros = [('HAVE_CBLAS', None)]\n",
            "    runtime_library_dirs = ['/usr/local/lib']\n",
            "Supported SIMD extensions in this NumPy install:\n",
            "    baseline = SSE,SSE2,SSE3\n",
            "    found = SSSE3,SSE41,POPCNT,SSE42,AVX,F16C,FMA3,AVX2\n",
            "    not found = AVX512F,AVX512CD,AVX512_KNL,AVX512_KNM,AVX512_SKX,AVX512_CLX,AVX512_CNL,AVX512_ICL\n"
          ]
        }
      ],
      "source": [
        "print(np.__version__)\n",
        "np.__config__.show()"
      ]
    },
    {
      "cell_type": "markdown",
      "id": "572c1bdb",
      "metadata": {
        "id": "572c1bdb"
      },
      "source": [
        "#### 3. Create a null vector of size 10 (★☆☆)"
      ]
    },
    {
      "cell_type": "code",
      "execution_count": null,
      "id": "31c9f6a5",
      "metadata": {
        "id": "31c9f6a5",
        "outputId": "4e2f1a14-15af-49c7-8a43-5200be91ad58",
        "colab": {
          "base_uri": "https://localhost:8080/"
        }
      },
      "outputs": [
        {
          "output_type": "stream",
          "name": "stdout",
          "text": [
            "[0. 0. 0. 0. 0. 0. 0. 0. 0. 0.]\n"
          ]
        }
      ],
      "source": [
        "import numpy as np\n",
        "x=np.zeros(10)\n",
        "print(x)"
      ]
    },
    {
      "cell_type": "markdown",
      "id": "337e6e36",
      "metadata": {
        "id": "337e6e36"
      },
      "source": [
        "#### 4. How to find the memory size of any array (★☆☆)"
      ]
    },
    {
      "cell_type": "code",
      "execution_count": null,
      "id": "31e8ec2e",
      "metadata": {
        "id": "31e8ec2e",
        "outputId": "75fdc9e0-45e2-4011-dc91-fce16a945bbf",
        "colab": {
          "base_uri": "https://localhost:8080/"
        }
      },
      "outputs": [
        {
          "output_type": "stream",
          "name": "stdout",
          "text": [
            "800 bytes\n"
          ]
        }
      ],
      "source": [
        "\n",
        "Z = np.zeros((10,10))\n",
        "print(\"%d bytes\" % (Z.size * Z.itemsize))"
      ]
    },
    {
      "cell_type": "markdown",
      "id": "166079c8",
      "metadata": {
        "id": "166079c8"
      },
      "source": [
        "#### 5. How to get the documentation of the numpy add function from the command line? (★☆☆)"
      ]
    },
    {
      "cell_type": "code",
      "execution_count": null,
      "id": "593cd80f",
      "metadata": {
        "id": "593cd80f",
        "outputId": "32865219-607b-486d-dabf-216e7b46a300",
        "colab": {
          "base_uri": "https://localhost:8080/",
          "height": 53
        }
      },
      "outputs": [
        {
          "output_type": "execute_result",
          "data": {
            "text/plain": [
              "'import numpy; numpy.info(numpy.add)'"
            ],
            "application/vnd.google.colaboratory.intrinsic+json": {
              "type": "string"
            }
          },
          "metadata": {},
          "execution_count": 8
        }
      ],
      "source": [
        " \"import numpy; numpy.info(numpy.add)\""
      ]
    },
    {
      "cell_type": "markdown",
      "id": "3add7101",
      "metadata": {
        "id": "3add7101"
      },
      "source": [
        "#### 6. Create a null vector of size 10 but the fifth value which is 1 (★☆☆)"
      ]
    },
    {
      "cell_type": "code",
      "execution_count": null,
      "id": "2edf3c42",
      "metadata": {
        "id": "2edf3c42",
        "outputId": "5f2c2e63-5545-49dd-a411-c0b53f116906",
        "colab": {
          "base_uri": "https://localhost:8080/"
        }
      },
      "outputs": [
        {
          "output_type": "stream",
          "name": "stdout",
          "text": [
            "[0. 0. 0. 0. 1. 0. 0. 0. 0. 0.]\n"
          ]
        }
      ],
      "source": [
        "Z= np.zeros(10)\n",
        "Z[4]= 1\n",
        "print (Z)"
      ]
    },
    {
      "cell_type": "markdown",
      "id": "cfc46304",
      "metadata": {
        "id": "cfc46304"
      },
      "source": [
        "#### 7. Create a vector with values ranging from 10 to 49 (★☆☆)"
      ]
    },
    {
      "cell_type": "code",
      "execution_count": null,
      "id": "d8b86640",
      "metadata": {
        "id": "d8b86640",
        "outputId": "95b6c783-7fff-4f19-f1d7-8a2a404148ba",
        "colab": {
          "base_uri": "https://localhost:8080/"
        }
      },
      "outputs": [
        {
          "output_type": "stream",
          "name": "stdout",
          "text": [
            "[10 11 12 13 14 15 16 17 18 19 20 21 22 23 24 25 26 27 28 29 30 31 32 33\n",
            " 34 35 36 37 38 39 40 41 42 43 44 45 46 47 48 49]\n"
          ]
        }
      ],
      "source": [
        "Z=np.arange(10,50)\n",
        "print (Z)"
      ]
    },
    {
      "cell_type": "markdown",
      "id": "0cc200be",
      "metadata": {
        "id": "0cc200be"
      },
      "source": [
        "#### 8. Reverse a vector (first element becomes last) (★☆☆)"
      ]
    },
    {
      "cell_type": "code",
      "execution_count": null,
      "id": "ec044bb5",
      "metadata": {
        "id": "ec044bb5",
        "outputId": "f7fda3e9-e693-4c13-a231-af24f629114c",
        "colab": {
          "base_uri": "https://localhost:8080/"
        }
      },
      "outputs": [
        {
          "output_type": "stream",
          "name": "stdout",
          "text": [
            "[49 48 47 46 45 44 43 42 41 40 39 38 37 36 35 34 33 32 31 30 29 28 27 26\n",
            " 25 24 23 22 21 20 19 18 17 16 15 14 13 12 11 10]\n"
          ]
        }
      ],
      "source": [
        "Z = np.arange(10,50)\n",
        "Z= Z[::-1]\n",
        "print (Z)"
      ]
    },
    {
      "cell_type": "markdown",
      "id": "29d9ede4",
      "metadata": {
        "id": "29d9ede4"
      },
      "source": [
        "#### 9. Create a 3x3 matrix with values ranging from 0 to 8 (★☆☆)"
      ]
    },
    {
      "cell_type": "code",
      "execution_count": null,
      "id": "d9e39043",
      "metadata": {
        "id": "d9e39043",
        "outputId": "8575be4d-72f1-431f-e7c3-50fe67786d89",
        "colab": {
          "base_uri": "https://localhost:8080/"
        }
      },
      "outputs": [
        {
          "output_type": "stream",
          "name": "stdout",
          "text": [
            "[[0 1 2]\n",
            " [3 4 5]\n",
            " [6 7 8]]\n"
          ]
        }
      ],
      "source": [
        "Z = np.arange(9).reshape(3,3)\n",
        "print (Z)"
      ]
    },
    {
      "cell_type": "markdown",
      "id": "88905ceb",
      "metadata": {
        "id": "88905ceb"
      },
      "source": [
        "#### 10. Find indices of non-zero elements from [1,2,0,0,4,0] (★☆☆)"
      ]
    },
    {
      "cell_type": "code",
      "execution_count": null,
      "id": "b2f3c90a",
      "metadata": {
        "id": "b2f3c90a",
        "outputId": "16246695-fc6f-4bf4-cb65-770ac898c3a9",
        "colab": {
          "base_uri": "https://localhost:8080/"
        }
      },
      "outputs": [
        {
          "output_type": "stream",
          "name": "stdout",
          "text": [
            "(array([0, 1, 4]),)\n"
          ]
        }
      ],
      "source": [
        "nz = np.nonzero([1,2,0,0,4,0])\n",
        "print(nz)"
      ]
    },
    {
      "cell_type": "markdown",
      "id": "49603e91",
      "metadata": {
        "id": "49603e91"
      },
      "source": [
        "#### 11. Create a 3x3 identity matrix (★☆☆)"
      ]
    },
    {
      "cell_type": "code",
      "execution_count": null,
      "id": "5b607b5c",
      "metadata": {
        "id": "5b607b5c",
        "outputId": "9885c032-16b4-4dd4-b7ea-996c0012a67e",
        "colab": {
          "base_uri": "https://localhost:8080/"
        }
      },
      "outputs": [
        {
          "output_type": "stream",
          "name": "stdout",
          "text": [
            "[[1. 0. 0.]\n",
            " [0. 1. 0.]\n",
            " [0. 0. 1.]]\n"
          ]
        }
      ],
      "source": [
        "Z= np.eye(3)\n",
        "print (Z)"
      ]
    },
    {
      "cell_type": "markdown",
      "id": "e15c249a",
      "metadata": {
        "id": "e15c249a"
      },
      "source": [
        "#### 12. Create a 3x3x3 array with random values (★☆☆)"
      ]
    },
    {
      "cell_type": "code",
      "execution_count": null,
      "id": "ab21ed50",
      "metadata": {
        "id": "ab21ed50",
        "outputId": "48910017-6050-4f1b-82fc-fe7cda90da40",
        "colab": {
          "base_uri": "https://localhost:8080/"
        }
      },
      "outputs": [
        {
          "output_type": "stream",
          "name": "stdout",
          "text": [
            "[2.14513699 1.99944725 2.24155634]\n"
          ]
        }
      ],
      "source": [
        "Z = np.random.uniform((3,3,3))\n",
        "print (Z)"
      ]
    },
    {
      "cell_type": "markdown",
      "id": "157a129c",
      "metadata": {
        "id": "157a129c"
      },
      "source": [
        "#### 13. Create a 10x10 array with random values and find the minimum and maximum values (★☆☆)"
      ]
    },
    {
      "cell_type": "code",
      "execution_count": null,
      "id": "c0066de5",
      "metadata": {
        "id": "c0066de5",
        "outputId": "b5aff2c8-33f1-48d8-c53a-fa6654b7352c",
        "colab": {
          "base_uri": "https://localhost:8080/"
        }
      },
      "outputs": [
        {
          "output_type": "stream",
          "name": "stdout",
          "text": [
            "0.005956191649177822 0.9891094290808612\n"
          ]
        }
      ],
      "source": [
        "Z = np.random.random((10,10))\n",
        "Zmin, Zmax = Z.min(), Z.max()\n",
        "print(Zmin, Zmax)"
      ]
    },
    {
      "cell_type": "markdown",
      "id": "d92d7b32",
      "metadata": {
        "id": "d92d7b32"
      },
      "source": [
        "#### 14. Create a random vector of size 30 and find the mean value (★☆☆)"
      ]
    },
    {
      "cell_type": "code",
      "execution_count": null,
      "id": "9672d023",
      "metadata": {
        "id": "9672d023",
        "outputId": "0a44d173-5124-4ba4-ed9a-89412101c9fc",
        "colab": {
          "base_uri": "https://localhost:8080/"
        }
      },
      "outputs": [
        {
          "output_type": "stream",
          "name": "stdout",
          "text": [
            "0.5740715010889751\n"
          ]
        }
      ],
      "source": [
        "Z = np.random.random(10)\n",
        "m = Z.mean()\n",
        "print (m)"
      ]
    },
    {
      "cell_type": "markdown",
      "id": "f361efc0",
      "metadata": {
        "id": "f361efc0"
      },
      "source": [
        "#### 15. Create a 2d array with 1 on the border and 0 inside (★☆☆)"
      ]
    },
    {
      "cell_type": "code",
      "execution_count": null,
      "id": "a55b6666",
      "metadata": {
        "id": "a55b6666"
      },
      "outputs": [],
      "source": [
        "Z = np.ones((10,10))\n",
        "Z[1:-1,1:-1]=0"
      ]
    },
    {
      "cell_type": "markdown",
      "id": "475808cb",
      "metadata": {
        "id": "475808cb"
      },
      "source": [
        "#### 16. How to add a border (filled with 0's) around an existing array? (★☆☆)"
      ]
    },
    {
      "cell_type": "code",
      "execution_count": null,
      "id": "b2df3a8a",
      "metadata": {
        "id": "b2df3a8a",
        "colab": {
          "base_uri": "https://localhost:8080/"
        },
        "outputId": "9c3deed4-3ff4-45e6-fe0c-27650e5c7bfd"
      },
      "outputs": [
        {
          "output_type": "stream",
          "name": "stdout",
          "text": [
            "[[0. 0. 0. 0. 0. 0. 0.]\n",
            " [0. 1. 1. 1. 1. 1. 0.]\n",
            " [0. 1. 1. 1. 1. 1. 0.]\n",
            " [0. 1. 1. 1. 1. 1. 0.]\n",
            " [0. 1. 1. 1. 1. 1. 0.]\n",
            " [0. 1. 1. 1. 1. 1. 0.]\n",
            " [0. 0. 0. 0. 0. 0. 0.]]\n"
          ]
        }
      ],
      "source": [
        "Z = np.ones((5,5))\n",
        "Z = np.pad(Z, pad_width=1, mode='constant', constant_values=0)\n",
        "print(Z)"
      ]
    },
    {
      "cell_type": "markdown",
      "id": "1af07d85",
      "metadata": {
        "id": "1af07d85"
      },
      "source": [
        "#### 17. What is the result of the following expression? (★☆☆)\n",
        "```python\n",
        "0 * np.nan\n",
        "np.nan == np.nan\n",
        "np.inf > np.nan\n",
        "np.nan - np.nan\n",
        "np.nan in set([np.nan])\n",
        "0.3 == 3 * 0.1\n",
        "```"
      ]
    },
    {
      "cell_type": "code",
      "execution_count": null,
      "id": "109cf327",
      "metadata": {
        "id": "109cf327",
        "outputId": "6f79a939-ca61-4cfb-c1fb-a0b31c992b99",
        "colab": {
          "base_uri": "https://localhost:8080/"
        }
      },
      "outputs": [
        {
          "output_type": "stream",
          "name": "stdout",
          "text": [
            "nan\n",
            "False\n",
            "False\n",
            "nan\n",
            "False\n"
          ]
        }
      ],
      "source": [
        "print(0 * np.nan)\n",
        "print(np.nan == np.nan)\n",
        "print(np.inf > np.nan)\n",
        "print(np.nan - np.nan)\n",
        "print(0.3 == 3 * 0.1)"
      ]
    },
    {
      "cell_type": "markdown",
      "id": "6a235316",
      "metadata": {
        "id": "6a235316"
      },
      "source": [
        "#### 18. Create a 5x5 matrix with values 1,2,3,4 just below the diagonal (★☆☆)"
      ]
    },
    {
      "cell_type": "code",
      "execution_count": null,
      "id": "f2e6cfa6",
      "metadata": {
        "id": "f2e6cfa6",
        "outputId": "cb6d0ffc-5c40-4d5b-871e-d1aae4ff3fe2",
        "colab": {
          "base_uri": "https://localhost:8080/"
        }
      },
      "outputs": [
        {
          "output_type": "stream",
          "name": "stdout",
          "text": [
            "[[0 0 0 0 0]\n",
            " [1 0 0 0 0]\n",
            " [0 2 0 0 0]\n",
            " [0 0 3 0 0]\n",
            " [0 0 0 4 0]]\n"
          ]
        }
      ],
      "source": [
        "Z = np.diag(1+np.arange(4), k = -1)\n",
        "print (Z)"
      ]
    },
    {
      "cell_type": "markdown",
      "id": "25362e98",
      "metadata": {
        "id": "25362e98"
      },
      "source": [
        "#### 19. Create a 8x8 matrix and fill it with a checkerboard pattern (★☆☆)"
      ]
    },
    {
      "cell_type": "code",
      "execution_count": null,
      "id": "cabdf298",
      "metadata": {
        "id": "cabdf298",
        "outputId": "d583ea87-b037-4a9e-c99d-064b2fdd109e",
        "colab": {
          "base_uri": "https://localhost:8080/"
        }
      },
      "outputs": [
        {
          "output_type": "stream",
          "name": "stdout",
          "text": [
            "[[0 1 0 1 0 1 0 1]\n",
            " [1 0 1 0 1 0 1 0]\n",
            " [0 1 0 1 0 1 0 1]\n",
            " [1 0 1 0 1 0 1 0]\n",
            " [0 1 0 1 0 1 0 1]\n",
            " [1 0 1 0 1 0 1 0]\n",
            " [0 1 0 1 0 1 0 1]\n",
            " [1 0 1 0 1 0 1 0]]\n"
          ]
        }
      ],
      "source": [
        "Z = np.zeros ((8,8), dtype=int)\n",
        "Z[1::2, ::2]= 1\n",
        "Z[::2, 1::2] = 1\n",
        "print (Z)"
      ]
    },
    {
      "cell_type": "markdown",
      "id": "6431e977",
      "metadata": {
        "id": "6431e977"
      },
      "source": [
        "#### 20. Consider a (6,7,8) shape array, what is the index (x,y,z) of the 100th element? (★☆☆)"
      ]
    },
    {
      "cell_type": "code",
      "execution_count": null,
      "id": "de8b0245",
      "metadata": {
        "id": "de8b0245",
        "outputId": "fd52c464-8c04-41ec-a225-0684effb7122",
        "colab": {
          "base_uri": "https://localhost:8080/"
        }
      },
      "outputs": [
        {
          "output_type": "stream",
          "name": "stdout",
          "text": [
            "(1, 5, 4)\n"
          ]
        }
      ],
      "source": [
        "print (np.unravel_index(100, (6,7,8)))"
      ]
    },
    {
      "cell_type": "markdown",
      "id": "31abe6fe",
      "metadata": {
        "id": "31abe6fe"
      },
      "source": [
        "#### 21. Create a checkerboard 8x8 matrix using the tile function (★☆☆)"
      ]
    },
    {
      "cell_type": "code",
      "execution_count": null,
      "id": "6da26fd3",
      "metadata": {
        "id": "6da26fd3",
        "outputId": "3b77ae49-538f-4614-fe57-ac02203f2bb9",
        "colab": {
          "base_uri": "https://localhost:8080/"
        }
      },
      "outputs": [
        {
          "output_type": "stream",
          "name": "stdout",
          "text": [
            "[[0 1 0 1 0 1 0 1]\n",
            " [1 0 1 0 1 0 1 0]\n",
            " [0 1 0 1 0 1 0 1]\n",
            " [1 0 1 0 1 0 1 0]\n",
            " [0 1 0 1 0 1 0 1]\n",
            " [1 0 1 0 1 0 1 0]\n",
            " [0 1 0 1 0 1 0 1]\n",
            " [1 0 1 0 1 0 1 0]]\n"
          ]
        }
      ],
      "source": [
        "array= np.array([[0,1], [1,0]])\n",
        "Z = np.tile(array,(4,4))\n",
        "print (Z)"
      ]
    },
    {
      "cell_type": "markdown",
      "id": "fd88b3f4",
      "metadata": {
        "id": "fd88b3f4"
      },
      "source": [
        "#### 22. Normalize a 5x5 random matrix (★☆☆)"
      ]
    },
    {
      "cell_type": "code",
      "execution_count": null,
      "id": "ee6ced60",
      "metadata": {
        "id": "ee6ced60",
        "outputId": "2eec729e-2b54-4f2a-c845-c55331736bcf",
        "colab": {
          "base_uri": "https://localhost:8080/"
        }
      },
      "outputs": [
        {
          "output_type": "stream",
          "name": "stdout",
          "text": [
            "[[0.59478177 0.03122472 0.79464676 0.37238739 0.56222852]\n",
            " [0.36394014 0.06204769 0.64744211 0.80250362 0.3155936 ]\n",
            " [0.54363367 0.27688823 0.83403704 0.68756249 0.37770469]\n",
            " [0.25096604 0.54589553 0.9184103  0.8471302  0.50336582]\n",
            " [0.29900398 0.46903023 0.02642325 1.         0.        ]]\n"
          ]
        }
      ],
      "source": [
        "Z = np.random.random((5,5))\n",
        "Zmax, Zmin = Z.max(), Z.min()\n",
        "Z= (Z-Zmin)/(Zmax-Zmin)\n",
        "print (Z)"
      ]
    },
    {
      "cell_type": "markdown",
      "id": "464d8590",
      "metadata": {
        "id": "464d8590"
      },
      "source": [
        "#### 23. Create a custom dtype that describes a color as four unsigned bytes (RGBA) (★☆☆)"
      ]
    },
    {
      "cell_type": "code",
      "execution_count": null,
      "id": "e2f9cfc6",
      "metadata": {
        "id": "e2f9cfc6",
        "colab": {
          "base_uri": "https://localhost:8080/"
        },
        "outputId": "c63e8c98-cac3-4144-8892-daf70f59202c"
      },
      "outputs": [
        {
          "output_type": "stream",
          "name": "stderr",
          "text": [
            "/usr/local/lib/python3.7/dist-packages/ipykernel_launcher.py:4: FutureWarning: Passing (type, 1) or '1type' as a synonym of type is deprecated; in a future version of numpy, it will be understood as (type, (1,)) / '(1,)type'.\n",
            "  after removing the cwd from sys.path.\n"
          ]
        }
      ],
      "source": [
        "color = np.dtype([(\"r\", np.ubyte, 1),\n",
        "                  (\"g\", np.ubyte, 1),\n",
        "                  (\"b\", np.ubyte, 1),\n",
        "                  (\"a\", np.ubyte, 1)])"
      ]
    },
    {
      "cell_type": "markdown",
      "id": "06c63bb3",
      "metadata": {
        "id": "06c63bb3"
      },
      "source": [
        "#### 24. Multiply a 5x3 matrix by a 3x2 matrix (real matrix product) (★☆☆)"
      ]
    },
    {
      "cell_type": "code",
      "execution_count": null,
      "id": "9fc0d553",
      "metadata": {
        "id": "9fc0d553",
        "outputId": "cdd9c54c-274c-4add-a26e-49c68efc0dbd",
        "colab": {
          "base_uri": "https://localhost:8080/"
        }
      },
      "outputs": [
        {
          "output_type": "stream",
          "name": "stdout",
          "text": [
            "[[3. 3.]\n",
            " [3. 3.]\n",
            " [3. 3.]\n",
            " [3. 3.]\n",
            " [3. 3.]]\n"
          ]
        }
      ],
      "source": [
        "Z= np.dot(np.ones((5,3)), np.ones((3,2)))\n",
        "print (Z)"
      ]
    },
    {
      "cell_type": "markdown",
      "id": "76fa6285",
      "metadata": {
        "id": "76fa6285"
      },
      "source": [
        "#### 25. Given a 1D array, negate all elements which are between 3 and 8, in place. (★☆☆)"
      ]
    },
    {
      "cell_type": "code",
      "execution_count": null,
      "id": "0e25eca7",
      "metadata": {
        "id": "0e25eca7",
        "colab": {
          "base_uri": "https://localhost:8080/"
        },
        "outputId": "edbbe8d8-772e-4c29-8eb6-d1855c78ffd4"
      },
      "outputs": [
        {
          "output_type": "stream",
          "name": "stdout",
          "text": [
            "[ 0  1  2  3 -4 -5 -6 -7 -8  9 10]\n"
          ]
        }
      ],
      "source": [
        "\n",
        "\n",
        "Z = np.arange(11)\n",
        "Z[(3 < Z) & (Z <= 8)] *= -1\n",
        "print(Z)"
      ]
    },
    {
      "cell_type": "markdown",
      "id": "930ed8bb",
      "metadata": {
        "id": "930ed8bb"
      },
      "source": [
        "#### 26. What is the output of the following script? (★☆☆)\n",
        "```python\n",
        "# Author: Jake VanderPlas\n",
        "\n",
        "print(sum(range(5),-1))\n",
        "from numpy import *\n",
        "print(sum(range(5),-1))\n",
        "```"
      ]
    },
    {
      "cell_type": "code",
      "execution_count": null,
      "id": "f02eedba",
      "metadata": {
        "id": "f02eedba",
        "colab": {
          "base_uri": "https://localhost:8080/"
        },
        "outputId": "4f96e91d-b2fb-467a-eb0c-0c6e7e072f7c"
      },
      "outputs": [
        {
          "output_type": "stream",
          "name": "stdout",
          "text": [
            "9\n",
            "10\n"
          ]
        }
      ],
      "source": [
        "# Author: Jake VanderPlas\n",
        "\n",
        "print(sum(range(5),-1))\n",
        "from numpy import *\n",
        "print(sum(range(5),-1))"
      ]
    },
    {
      "cell_type": "markdown",
      "id": "177120e7",
      "metadata": {
        "id": "177120e7"
      },
      "source": [
        "#### 27. Consider an integer vector Z, which of these expressions are legal? (★☆☆)\n",
        "```python\n",
        "\n",
        "```\n",
        "# This is formatted as code\n",
        "```\n",
        "\n",
        "\n",
        "Z**Z\n",
        "2 << Z >> 2\n",
        "Z <- Z\n",
        "1j*Z\n",
        "Z/1/1\n",
        "Z<Z>Z\n",
        "```"
      ]
    },
    {
      "cell_type": "markdown",
      "id": "a6eaf0e8",
      "metadata": {
        "id": "a6eaf0e8"
      },
      "source": [
        "#### 28. What are the result of the following expressions? (★☆☆)\n",
        "```python\n",
        "np.array(0) / np.array(0)\n",
        "np.array(0) // np.array(0)\n",
        "np.array([np.nan]).astype(int).astype(float)\n",
        "```"
      ]
    },
    {
      "cell_type": "code",
      "execution_count": null,
      "id": "93684068",
      "metadata": {
        "id": "93684068",
        "colab": {
          "base_uri": "https://localhost:8080/"
        },
        "outputId": "3d17ae67-ce94-47a5-c080-e43245109882"
      },
      "outputs": [
        {
          "output_type": "stream",
          "name": "stdout",
          "text": [
            "nan\n",
            "0\n",
            "[-9.22337204e+18]\n"
          ]
        },
        {
          "output_type": "stream",
          "name": "stderr",
          "text": [
            "/usr/local/lib/python3.7/dist-packages/ipykernel_launcher.py:1: RuntimeWarning: invalid value encountered in true_divide\n",
            "  \"\"\"Entry point for launching an IPython kernel.\n",
            "/usr/local/lib/python3.7/dist-packages/ipykernel_launcher.py:2: RuntimeWarning: divide by zero encountered in floor_divide\n",
            "  \n"
          ]
        }
      ],
      "source": [
        "print(np.array(0) / np.array(0))\n",
        "print(np.array(0) // np.array(0))\n",
        "print(np.array([np.nan]).astype(int).astype(float))"
      ]
    },
    {
      "cell_type": "markdown",
      "id": "524b65f8",
      "metadata": {
        "id": "524b65f8"
      },
      "source": [
        "#### 29. How to round away from zero a float array ? (★☆☆)"
      ]
    },
    {
      "cell_type": "code",
      "execution_count": null,
      "id": "61fbb78e",
      "metadata": {
        "id": "61fbb78e",
        "colab": {
          "base_uri": "https://localhost:8080/"
        },
        "outputId": "3164f07b-17ab-4478-dd2d-9a797d68ed1a"
      },
      "outputs": [
        {
          "output_type": "stream",
          "name": "stdout",
          "text": [
            "[ 10.  -8.  -7. -10.   8.  -8.   5.  -3.  -8.  10.]\n"
          ]
        }
      ],
      "source": [
        "# Author: Charles R Harris\n",
        "\n",
        "Z = np.random.uniform(-10,+10,10)\n",
        "print (np.copysign(np.ceil(np.abs(Z)), Z))"
      ]
    },
    {
      "cell_type": "markdown",
      "id": "8dc40752",
      "metadata": {
        "id": "8dc40752"
      },
      "source": [
        "#### 30. How to find common values between two arrays? (★☆☆)"
      ]
    },
    {
      "cell_type": "code",
      "execution_count": null,
      "id": "54399cbe",
      "metadata": {
        "id": "54399cbe",
        "colab": {
          "base_uri": "https://localhost:8080/"
        },
        "outputId": "5cf4eeff-ef5d-45cc-eac5-a1792dc81984"
      },
      "outputs": [
        {
          "output_type": "stream",
          "name": "stdout",
          "text": [
            "[1 2 3 6 7 8 9]\n"
          ]
        }
      ],
      "source": [
        "Z1 = np.random.randint(0,10,10)\n",
        "Z2 = np.random.randint(0,10,10)\n",
        "print(np.intersect1d(Z1,Z2))"
      ]
    },
    {
      "cell_type": "markdown",
      "id": "b7f38e21",
      "metadata": {
        "id": "b7f38e21"
      },
      "source": [
        "#### 31. How to ignore all numpy warnings (not recommended)? (★☆☆)"
      ]
    },
    {
      "cell_type": "code",
      "execution_count": null,
      "id": "2ca3289c",
      "metadata": {
        "id": "2ca3289c"
      },
      "outputs": [],
      "source": [
        "# Suicide mode on\n",
        "defaults = np.seterr(all=\"ignore\")\n",
        "Z = np.ones(1) / 0\n",
        "\n",
        "# Back to sanity\n",
        "_ = np.seterr(**defaults)"
      ]
    },
    {
      "cell_type": "markdown",
      "id": "2d850aab",
      "metadata": {
        "id": "2d850aab"
      },
      "source": [
        "#### 32. Is the following expressions true? (★☆☆)\n",
        "```python\n",
        "np.sqrt(-1) == np.emath.sqrt(-1)\n",
        "```"
      ]
    },
    {
      "cell_type": "code",
      "execution_count": null,
      "id": "5c83ffce",
      "metadata": {
        "id": "5c83ffce",
        "colab": {
          "base_uri": "https://localhost:8080/"
        },
        "outputId": "3a11a2f5-0f8d-4699-95b4-9c3e39e7ce70"
      },
      "outputs": [
        {
          "output_type": "stream",
          "name": "stderr",
          "text": [
            "/usr/local/lib/python3.7/dist-packages/ipykernel_launcher.py:1: RuntimeWarning: invalid value encountered in sqrt\n",
            "  \"\"\"Entry point for launching an IPython kernel.\n"
          ]
        },
        {
          "output_type": "execute_result",
          "data": {
            "text/plain": [
              "False"
            ]
          },
          "metadata": {},
          "execution_count": 18
        }
      ],
      "source": [
        "np.sqrt(-1) == np.emath.sqrt(-1)"
      ]
    },
    {
      "cell_type": "markdown",
      "id": "5c4a556f",
      "metadata": {
        "id": "5c4a556f"
      },
      "source": [
        "#### 33. How to get the dates of yesterday, today and tomorrow? (★☆☆)"
      ]
    },
    {
      "cell_type": "code",
      "source": [
        "import numpy as np\n",
        "from datetime import datetime, timedelta\n",
        "\n",
        "# Get the current date\n",
        "today = datetime.today()\n",
        "\n",
        "# Calculate the dates for yesterday and tomorrow\n",
        "yesterday = today - timedelta(days=1)\n",
        "tomorrow = today + timedelta(days=1)\n",
        "\n",
        "# Convert the dates to NumPy datetime64 objects if needed\n",
        "today_np = np.datetime64(today)\n",
        "yesterday_np = np.datetime64(yesterday)\n",
        "tomorrow_np = np.datetime64(tomorrow)\n",
        "\n",
        "# Print the dates\n",
        "print(\"Yesterday:\", yesterday_np)\n",
        "print(\"Today:\", today_np)\n",
        "print(\"Tomorrow:\", tomorrow_np)"
      ],
      "metadata": {
        "colab": {
          "base_uri": "https://localhost:8080/"
        },
        "id": "Q_Tv15SA9KaG",
        "outputId": "8cda8ee4-7ed9-4539-eb12-2beb7fd05114"
      },
      "id": "Q_Tv15SA9KaG",
      "execution_count": null,
      "outputs": [
        {
          "output_type": "stream",
          "name": "stdout",
          "text": [
            "Yesterday: 2023-11-07T12:42:55.407006\n",
            "Today: 2023-11-08T12:42:55.407006\n",
            "Tomorrow: 2023-11-09T12:42:55.407006\n"
          ]
        }
      ]
    },
    {
      "cell_type": "markdown",
      "id": "453cdd64",
      "metadata": {
        "id": "453cdd64"
      },
      "source": [
        "#### 34. How to get all the dates corresponding to the month of July 2016? (★★☆)"
      ]
    },
    {
      "cell_type": "code",
      "execution_count": null,
      "id": "4ba4d37c",
      "metadata": {
        "id": "4ba4d37c",
        "colab": {
          "base_uri": "https://localhost:8080/"
        },
        "outputId": "85692a9c-de63-413f-ce66-4656ddd4e8af"
      },
      "outputs": [
        {
          "output_type": "stream",
          "name": "stdout",
          "text": [
            "['2016-07-01' '2016-07-02' '2016-07-03' '2016-07-04' '2016-07-05'\n",
            " '2016-07-06' '2016-07-07' '2016-07-08' '2016-07-09' '2016-07-10'\n",
            " '2016-07-11' '2016-07-12' '2016-07-13' '2016-07-14' '2016-07-15'\n",
            " '2016-07-16' '2016-07-17' '2016-07-18' '2016-07-19' '2016-07-20'\n",
            " '2016-07-21' '2016-07-22' '2016-07-23' '2016-07-24' '2016-07-25'\n",
            " '2016-07-26' '2016-07-27' '2016-07-28' '2016-07-29' '2016-07-30'\n",
            " '2016-07-31']\n"
          ]
        }
      ],
      "source": [
        "Z = np.arange('2016-07', '2016-08', dtype='datetime64[D]')\n",
        "print(Z)"
      ]
    },
    {
      "cell_type": "markdown",
      "id": "52667b6e",
      "metadata": {
        "id": "52667b6e"
      },
      "source": [
        "#### 35. How to compute ((A+B)*(-A/2)) in place (without copy)? (★★☆)"
      ]
    },
    {
      "cell_type": "code",
      "execution_count": null,
      "id": "e6e7c030",
      "metadata": {
        "id": "e6e7c030",
        "colab": {
          "base_uri": "https://localhost:8080/"
        },
        "outputId": "2e7c070e-ce09-47d8-d8db-07daa153d5b3"
      },
      "outputs": [
        {
          "output_type": "execute_result",
          "data": {
            "text/plain": [
              "array([-1.5, -1.5, -1.5])"
            ]
          },
          "metadata": {},
          "execution_count": 21
        }
      ],
      "source": [
        "A = np.ones(3)*1\n",
        "B = np.ones(3)*2\n",
        "C = np.ones(3)*3\n",
        "np.add(A,B,out=B)\n",
        "np.divide(A,2,out=A)\n",
        "np.negative(A,out=A)\n",
        "np.multiply(A,B,out=A)"
      ]
    },
    {
      "cell_type": "markdown",
      "id": "9a8f3738",
      "metadata": {
        "id": "9a8f3738"
      },
      "source": [
        "#### 36. Extract the integer part of a random array of positive numbers using 4 different methods (★★☆)"
      ]
    },
    {
      "cell_type": "code",
      "execution_count": null,
      "id": "368a801a",
      "metadata": {
        "id": "368a801a",
        "colab": {
          "base_uri": "https://localhost:8080/"
        },
        "outputId": "4796b012-247e-4ae1-eaa8-0f2ddfe9d30d"
      },
      "outputs": [
        {
          "output_type": "stream",
          "name": "stdout",
          "text": [
            "[8. 8. 3. 4. 7. 4. 1. 0. 8. 4.]\n",
            "[8. 8. 3. 4. 7. 4. 1. 0. 8. 4.]\n",
            "[8. 8. 3. 4. 7. 4. 1. 0. 8. 4.]\n",
            "[8 8 3 4 7 4 1 0 8 4]\n",
            "[8. 8. 3. 4. 7. 4. 1. 0. 8. 4.]\n"
          ]
        }
      ],
      "source": [
        "Z = np.random.uniform(0,10,10)\n",
        "\n",
        "print (Z - Z%1)\n",
        "print (np.floor(Z))\n",
        "print (np.ceil(Z)-1)\n",
        "print (Z.astype(int))\n",
        "print (np.trunc(Z))"
      ]
    },
    {
      "cell_type": "markdown",
      "id": "cab1eed1",
      "metadata": {
        "id": "cab1eed1"
      },
      "source": [
        "#### 37. Create a 5x5 matrix with row values ranging from 0 to 4 (★★☆)"
      ]
    },
    {
      "cell_type": "code",
      "execution_count": null,
      "id": "f1b579ba",
      "metadata": {
        "id": "f1b579ba",
        "outputId": "e6e42c92-a5f4-4bd2-f9d9-72a0f0196bf7",
        "colab": {
          "base_uri": "https://localhost:8080/"
        }
      },
      "outputs": [
        {
          "output_type": "stream",
          "name": "stdout",
          "text": [
            "[[0. 1. 2. 3. 4.]\n",
            " [0. 1. 2. 3. 4.]\n",
            " [0. 1. 2. 3. 4.]\n",
            " [0. 1. 2. 3. 4.]\n",
            " [0. 1. 2. 3. 4.]]\n"
          ]
        }
      ],
      "source": [
        "Z = np.zeros((5,5))\n",
        "Z += np.arange(5)\n",
        "print(Z)"
      ]
    },
    {
      "cell_type": "markdown",
      "id": "cd0ce6b1",
      "metadata": {
        "id": "cd0ce6b1"
      },
      "source": [
        "#### 38. Consider a generator function that generates 10 integers and use it to build an array (★☆☆)"
      ]
    },
    {
      "cell_type": "code",
      "execution_count": null,
      "id": "aab193a6",
      "metadata": {
        "id": "aab193a6",
        "outputId": "b2bc3d56-bb46-442c-ed22-962ec47faeab",
        "colab": {
          "base_uri": "https://localhost:8080/"
        }
      },
      "outputs": [
        {
          "output_type": "stream",
          "name": "stdout",
          "text": [
            "[0. 1. 2. 3. 4. 5. 6. 7. 8. 9.]\n"
          ]
        }
      ],
      "source": [
        "def generate():\n",
        "    for x in range(10):\n",
        "        yield x\n",
        "\n",
        "Z = np.fromiter(generate(), dtype=float, count=-1)\n",
        "print (Z)"
      ]
    },
    {
      "cell_type": "markdown",
      "id": "c4c942d1",
      "metadata": {
        "id": "c4c942d1"
      },
      "source": [
        "#### 39. Create a vector of size 10 with values ranging from 0 to 1, both excluded (★★☆)"
      ]
    },
    {
      "cell_type": "code",
      "execution_count": null,
      "id": "e42eaa4b",
      "metadata": {
        "id": "e42eaa4b",
        "outputId": "eabc660d-8ecd-4f55-b5b6-fb7503997d5d",
        "colab": {
          "base_uri": "https://localhost:8080/"
        }
      },
      "outputs": [
        {
          "output_type": "stream",
          "name": "stdout",
          "text": [
            "[0.09090909 0.18181818 0.27272727 0.36363636 0.45454545 0.54545455\n",
            " 0.63636364 0.72727273 0.81818182 0.90909091]\n"
          ]
        }
      ],
      "source": [
        "Z = np.linspace(0,1,12,endpoint=True)[1:-1]\n",
        "print(Z)"
      ]
    },
    {
      "cell_type": "markdown",
      "id": "9b3cb8d2",
      "metadata": {
        "id": "9b3cb8d2"
      },
      "source": [
        "#### 40. Create a random vector of size 10 and sort it (★★☆)"
      ]
    },
    {
      "cell_type": "code",
      "execution_count": null,
      "id": "37d2b341",
      "metadata": {
        "id": "37d2b341",
        "outputId": "1719032a-381c-446d-e5ee-da3d4d21c0bf",
        "colab": {
          "base_uri": "https://localhost:8080/"
        }
      },
      "outputs": [
        {
          "output_type": "stream",
          "name": "stdout",
          "text": [
            "[0.18069848 0.22754105 0.270966   0.43541312 0.46990708 0.58979593\n",
            " 0.66379504 0.93396073 0.95765602 0.96678527]\n"
          ]
        }
      ],
      "source": [
        "Z = np.random.random(10)\n",
        "Z.sort()\n",
        "print(Z)"
      ]
    },
    {
      "cell_type": "markdown",
      "id": "2facfddc",
      "metadata": {
        "id": "2facfddc"
      },
      "source": [
        "#### 41. How to sum a small array faster than np.sum? (★★☆)"
      ]
    },
    {
      "cell_type": "code",
      "execution_count": null,
      "id": "4bb8864f",
      "metadata": {
        "id": "4bb8864f",
        "colab": {
          "base_uri": "https://localhost:8080/"
        },
        "outputId": "7f189a8b-a02c-4102-8a8a-62595b09bcc4"
      },
      "outputs": [
        {
          "output_type": "execute_result",
          "data": {
            "text/plain": [
              "45"
            ]
          },
          "metadata": {},
          "execution_count": 23
        }
      ],
      "source": [
        "# Author: Evgeni Burovski\n",
        "\n",
        "Z = np.arange(10)\n",
        "np.add.reduce(Z)"
      ]
    },
    {
      "cell_type": "markdown",
      "id": "539cd2a5",
      "metadata": {
        "id": "539cd2a5"
      },
      "source": [
        "#### 42. Consider two random array A and B, check if they are equal (★★☆)"
      ]
    },
    {
      "cell_type": "code",
      "execution_count": null,
      "id": "5246d7bf",
      "metadata": {
        "id": "5246d7bf",
        "outputId": "5a86be52-d63f-420f-d878-8bbaabad802b",
        "colab": {
          "base_uri": "https://localhost:8080/"
        }
      },
      "outputs": [
        {
          "output_type": "stream",
          "name": "stdout",
          "text": [
            "False\n"
          ]
        }
      ],
      "source": [
        "A = np.random.randint(0,2,5)\n",
        "B = np.random.randint(0,2,5)\n",
        "equal = np.allclose(A,B)\n",
        "print(equal)"
      ]
    },
    {
      "cell_type": "markdown",
      "id": "448f8274",
      "metadata": {
        "id": "448f8274"
      },
      "source": [
        "#### 43. Make an array immutable (read-only) (★★☆)"
      ]
    },
    {
      "cell_type": "code",
      "source": [
        "import numpy as np\n",
        "\n",
        "# Create a NumPy array\n",
        "my_array = np.array([1, 2, 3, 4, 5])\n",
        "\n",
        "# Make the array immutable (read-only)\n",
        "my_array.flags.writeable = False\n",
        "\n",
        "# Attempt to modify the array\n",
        "try:\n",
        "    my_array[0] = 10\n",
        "except ValueError as e:\n",
        "    print(f\"Error: {e}\")\n",
        "\n",
        "# Attempt to resize the array\n",
        "try:\n",
        "    my_array.resize((3,))\n",
        "except ValueError as e:\n",
        "    print(f\"Error: {e}\")"
      ],
      "metadata": {
        "colab": {
          "base_uri": "https://localhost:8080/"
        },
        "id": "IioIkS-Y83oB",
        "outputId": "1969b89a-e5c0-43b7-a68d-380206e861e6"
      },
      "id": "IioIkS-Y83oB",
      "execution_count": null,
      "outputs": [
        {
          "output_type": "stream",
          "name": "stdout",
          "text": [
            "Error: assignment destination is read-only\n"
          ]
        }
      ]
    },
    {
      "cell_type": "markdown",
      "id": "d7b7aaf3",
      "metadata": {
        "id": "d7b7aaf3"
      },
      "source": [
        "#### 44. Consider a random 10x2 matrix representing cartesian coordinates, convert them to polar coordinates (★★☆)"
      ]
    },
    {
      "cell_type": "code",
      "execution_count": null,
      "id": "e2337585",
      "metadata": {
        "id": "e2337585",
        "outputId": "0e09e1ca-bb9d-48e1-9a61-d5194680dd92",
        "colab": {
          "base_uri": "https://localhost:8080/"
        }
      },
      "outputs": [
        {
          "output_type": "stream",
          "name": "stdout",
          "text": [
            "[0.35163689 0.97522906 0.94313276 0.8681651  1.00963422 0.8100815\n",
            " 0.82447847 0.20941736 0.87210891 0.54898994]\n",
            "[1.4249088  0.07809696 0.1952571  0.92401164 0.72618018 1.55177824\n",
            " 0.44569169 0.28887899 0.50062667 0.48773001]\n"
          ]
        }
      ],
      "source": [
        "Z = np.random.random((10,2))\n",
        "X,Y = Z[:,0], Z[:,1]\n",
        "R = np.sqrt(X**2+Y**2)\n",
        "T = np.arctan2(Y,X)\n",
        "print(R)\n",
        "print(T)"
      ]
    },
    {
      "cell_type": "markdown",
      "id": "a556027a",
      "metadata": {
        "id": "a556027a"
      },
      "source": [
        "#### 45. Create random vector of size 10 and replace the maximum value by 0 (★★☆)"
      ]
    },
    {
      "cell_type": "code",
      "execution_count": null,
      "id": "9e07cb87",
      "metadata": {
        "id": "9e07cb87",
        "outputId": "aa30a89d-2bad-4389-e8e6-991faf435448",
        "colab": {
          "base_uri": "https://localhost:8080/"
        }
      },
      "outputs": [
        {
          "output_type": "stream",
          "name": "stdout",
          "text": [
            "[0.61177895 0.76033869 0.         0.17479439 0.25475801 0.22791097\n",
            " 0.58436417 0.29773117 0.67287078 0.10773643]\n"
          ]
        }
      ],
      "source": [
        "Z = np.random.random(10)\n",
        "Z[Z.argmax()] = 0\n",
        "print(Z)"
      ]
    },
    {
      "cell_type": "markdown",
      "id": "004f3da1",
      "metadata": {
        "id": "004f3da1"
      },
      "source": [
        "#### 46. Create a structured array with `x` and `y` coordinates covering the [0,1]x[0,1] area (★★☆)"
      ]
    },
    {
      "cell_type": "code",
      "execution_count": null,
      "id": "b3824741",
      "metadata": {
        "id": "b3824741",
        "outputId": "65561383-e278-49a2-c0ae-328c50dcd21b",
        "colab": {
          "base_uri": "https://localhost:8080/"
        }
      },
      "outputs": [
        {
          "output_type": "stream",
          "name": "stdout",
          "text": [
            "[[(0.        , 0.        ) (0.11111111, 0.        )\n",
            "  (0.22222222, 0.        ) (0.33333333, 0.        )\n",
            "  (0.44444444, 0.        ) (0.55555556, 0.        )\n",
            "  (0.66666667, 0.        ) (0.77777778, 0.        )\n",
            "  (0.88888889, 0.        ) (1.        , 0.        )]\n",
            " [(0.        , 0.11111111) (0.11111111, 0.11111111)\n",
            "  (0.22222222, 0.11111111) (0.33333333, 0.11111111)\n",
            "  (0.44444444, 0.11111111) (0.55555556, 0.11111111)\n",
            "  (0.66666667, 0.11111111) (0.77777778, 0.11111111)\n",
            "  (0.88888889, 0.11111111) (1.        , 0.11111111)]\n",
            " [(0.        , 0.22222222) (0.11111111, 0.22222222)\n",
            "  (0.22222222, 0.22222222) (0.33333333, 0.22222222)\n",
            "  (0.44444444, 0.22222222) (0.55555556, 0.22222222)\n",
            "  (0.66666667, 0.22222222) (0.77777778, 0.22222222)\n",
            "  (0.88888889, 0.22222222) (1.        , 0.22222222)]\n",
            " [(0.        , 0.33333333) (0.11111111, 0.33333333)\n",
            "  (0.22222222, 0.33333333) (0.33333333, 0.33333333)\n",
            "  (0.44444444, 0.33333333) (0.55555556, 0.33333333)\n",
            "  (0.66666667, 0.33333333) (0.77777778, 0.33333333)\n",
            "  (0.88888889, 0.33333333) (1.        , 0.33333333)]\n",
            " [(0.        , 0.44444444) (0.11111111, 0.44444444)\n",
            "  (0.22222222, 0.44444444) (0.33333333, 0.44444444)\n",
            "  (0.44444444, 0.44444444) (0.55555556, 0.44444444)\n",
            "  (0.66666667, 0.44444444) (0.77777778, 0.44444444)\n",
            "  (0.88888889, 0.44444444) (1.        , 0.44444444)]\n",
            " [(0.        , 0.55555556) (0.11111111, 0.55555556)\n",
            "  (0.22222222, 0.55555556) (0.33333333, 0.55555556)\n",
            "  (0.44444444, 0.55555556) (0.55555556, 0.55555556)\n",
            "  (0.66666667, 0.55555556) (0.77777778, 0.55555556)\n",
            "  (0.88888889, 0.55555556) (1.        , 0.55555556)]\n",
            " [(0.        , 0.66666667) (0.11111111, 0.66666667)\n",
            "  (0.22222222, 0.66666667) (0.33333333, 0.66666667)\n",
            "  (0.44444444, 0.66666667) (0.55555556, 0.66666667)\n",
            "  (0.66666667, 0.66666667) (0.77777778, 0.66666667)\n",
            "  (0.88888889, 0.66666667) (1.        , 0.66666667)]\n",
            " [(0.        , 0.77777778) (0.11111111, 0.77777778)\n",
            "  (0.22222222, 0.77777778) (0.33333333, 0.77777778)\n",
            "  (0.44444444, 0.77777778) (0.55555556, 0.77777778)\n",
            "  (0.66666667, 0.77777778) (0.77777778, 0.77777778)\n",
            "  (0.88888889, 0.77777778) (1.        , 0.77777778)]\n",
            " [(0.        , 0.88888889) (0.11111111, 0.88888889)\n",
            "  (0.22222222, 0.88888889) (0.33333333, 0.88888889)\n",
            "  (0.44444444, 0.88888889) (0.55555556, 0.88888889)\n",
            "  (0.66666667, 0.88888889) (0.77777778, 0.88888889)\n",
            "  (0.88888889, 0.88888889) (1.        , 0.88888889)]\n",
            " [(0.        , 1.        ) (0.11111111, 1.        )\n",
            "  (0.22222222, 1.        ) (0.33333333, 1.        )\n",
            "  (0.44444444, 1.        ) (0.55555556, 1.        )\n",
            "  (0.66666667, 1.        ) (0.77777778, 1.        )\n",
            "  (0.88888889, 1.        ) (1.        , 1.        )]]\n"
          ]
        }
      ],
      "source": [
        "Z = np.zeros((10,10), [('x',float),('y',float)])\n",
        "Z['x'], Z['y'] = np.meshgrid(np.linspace(0,1,10),\n",
        "                             np.linspace(0,1,10))\n",
        "print(Z)"
      ]
    },
    {
      "cell_type": "markdown",
      "id": "1c0adc0d",
      "metadata": {
        "id": "1c0adc0d"
      },
      "source": [
        "#### 47. Given two arrays, X and Y, construct the Cauchy matrix C (Cij =1/(xi - yj)) (★★☆)"
      ]
    },
    {
      "cell_type": "code",
      "execution_count": null,
      "id": "01b3bbb7",
      "metadata": {
        "id": "01b3bbb7",
        "colab": {
          "base_uri": "https://localhost:8080/"
        },
        "outputId": "fc0d6576-b358-450f-ba96-aea5cdc55cd5"
      },
      "outputs": [
        {
          "output_type": "stream",
          "name": "stdout",
          "text": [
            "3638.163637117973\n"
          ]
        }
      ],
      "source": [
        "# Author: Evgeni Burovski\n",
        "\n",
        "X = np.arange(8)\n",
        "Y = X + 0.5\n",
        "C = 1.0 / np.subtract.outer(X, Y)\n",
        "print(np.linalg.det(C))"
      ]
    },
    {
      "cell_type": "markdown",
      "id": "c8a2f65a",
      "metadata": {
        "id": "c8a2f65a"
      },
      "source": [
        "#### 48. Print the minimum and maximum representable value for each numpy scalar type (★★☆)"
      ]
    },
    {
      "cell_type": "code",
      "source": [
        "import numpy as np\n",
        "\n",
        "# List of NumPy data types\n",
        "data_types = [np.int8, np.uint8, np.int16, np.uint16, np.int32, np.uint32, np.int64, np.uint64, np.float16, np.float32, np.float64]\n",
        "\n",
        "# Print the minimum and maximum representable values for each data type\n",
        "for data_type in data_types:\n",
        "    if np.issubdtype(data_type, np.integer):\n",
        "        info = np.iinfo(data_type)\n",
        "        print(f\"Data type: {data_type}, Minimum: {info.min}, Maximum: {info.max}\")\n",
        "    elif np.issubdtype(data_type, np.floating):\n",
        "        info = np.finfo(data_type)\n",
        "        print(f\"Data type: {data_type}, Minimum: {info.min}, Maximum: {info.max}\")\n",
        "    else:\n",
        "        print(f\"Data type: {data_type} is not an integer or floating-point type.\")"
      ],
      "metadata": {
        "colab": {
          "base_uri": "https://localhost:8080/"
        },
        "id": "L6JpnwLnAUAi",
        "outputId": "895a7ad6-49d7-4017-b248-8e86b5b39573"
      },
      "id": "L6JpnwLnAUAi",
      "execution_count": null,
      "outputs": [
        {
          "output_type": "stream",
          "name": "stdout",
          "text": [
            "Data type: <class 'numpy.int8'>, Minimum: -128, Maximum: 127\n",
            "Data type: <class 'numpy.uint8'>, Minimum: 0, Maximum: 255\n",
            "Data type: <class 'numpy.int16'>, Minimum: -32768, Maximum: 32767\n",
            "Data type: <class 'numpy.uint16'>, Minimum: 0, Maximum: 65535\n",
            "Data type: <class 'numpy.int32'>, Minimum: -2147483648, Maximum: 2147483647\n",
            "Data type: <class 'numpy.uint32'>, Minimum: 0, Maximum: 4294967295\n",
            "Data type: <class 'numpy.int64'>, Minimum: -9223372036854775808, Maximum: 9223372036854775807\n",
            "Data type: <class 'numpy.uint64'>, Minimum: 0, Maximum: 18446744073709551615\n",
            "Data type: <class 'numpy.float16'>, Minimum: -65504.0, Maximum: 65504.0\n",
            "Data type: <class 'numpy.float32'>, Minimum: -3.4028234663852886e+38, Maximum: 3.4028234663852886e+38\n",
            "Data type: <class 'numpy.float64'>, Minimum: -1.7976931348623157e+308, Maximum: 1.7976931348623157e+308\n"
          ]
        }
      ]
    },
    {
      "cell_type": "markdown",
      "id": "11727a69",
      "metadata": {
        "id": "11727a69"
      },
      "source": [
        "#### 49. How to print all the values of an array? (★★☆)"
      ]
    },
    {
      "cell_type": "code",
      "source": [
        "import numpy as np\n",
        "\n",
        "# Create a NumPy array\n",
        "my_array = np.array([1, 2, 3, 4, 5])\n",
        "\n",
        "# Print all the values in the array\n",
        "print(my_array)"
      ],
      "metadata": {
        "colab": {
          "base_uri": "https://localhost:8080/"
        },
        "id": "nc9RQnUuAHeI",
        "outputId": "22642075-e544-4adb-d9f9-f243c9aa392d"
      },
      "id": "nc9RQnUuAHeI",
      "execution_count": null,
      "outputs": [
        {
          "output_type": "stream",
          "name": "stdout",
          "text": [
            "[1 2 3 4 5]\n"
          ]
        }
      ]
    },
    {
      "cell_type": "markdown",
      "id": "e0e7d741",
      "metadata": {
        "id": "e0e7d741"
      },
      "source": [
        "#### 50. How to find the closest value (to a given scalar) in a vector? (★★☆)"
      ]
    },
    {
      "cell_type": "code",
      "execution_count": null,
      "id": "62cabf6f",
      "metadata": {
        "id": "62cabf6f",
        "outputId": "10ef0788-27c2-4e68-8505-e4c3fcab57f3",
        "colab": {
          "base_uri": "https://localhost:8080/"
        }
      },
      "outputs": [
        {
          "output_type": "stream",
          "name": "stdout",
          "text": [
            "93\n"
          ]
        }
      ],
      "source": [
        "Z = np.arange(100)\n",
        "v = np.random.uniform(0,100)\n",
        "index = (np.abs(Z-v)).argmin()\n",
        "print(Z[index])"
      ]
    },
    {
      "cell_type": "markdown",
      "id": "c5611b9e",
      "metadata": {
        "id": "c5611b9e"
      },
      "source": [
        "#### 51. Create a structured array representing a position (x,y) and a color (r,g,b) (★★☆)"
      ]
    },
    {
      "cell_type": "code",
      "execution_count": null,
      "id": "f622939d",
      "metadata": {
        "id": "f622939d",
        "outputId": "ba9a9576-4342-42ce-aa52-4d2e73950569",
        "colab": {
          "base_uri": "https://localhost:8080/"
        }
      },
      "outputs": [
        {
          "output_type": "stream",
          "name": "stdout",
          "text": [
            "[((0., 0.), (0., 0., 0.)) ((0., 0.), (0., 0., 0.))\n",
            " ((0., 0.), (0., 0., 0.)) ((0., 0.), (0., 0., 0.))\n",
            " ((0., 0.), (0., 0., 0.)) ((0., 0.), (0., 0., 0.))\n",
            " ((0., 0.), (0., 0., 0.)) ((0., 0.), (0., 0., 0.))\n",
            " ((0., 0.), (0., 0., 0.)) ((0., 0.), (0., 0., 0.))]\n"
          ]
        },
        {
          "output_type": "stream",
          "name": "stderr",
          "text": [
            "/usr/local/lib/python3.7/dist-packages/ipykernel_launcher.py:5: FutureWarning: Passing (type, 1) or '1type' as a synonym of type is deprecated; in a future version of numpy, it will be understood as (type, (1,)) / '(1,)type'.\n",
            "  \"\"\"\n"
          ]
        }
      ],
      "source": [
        "Z = np.zeros(10, [ ('position', [ ('x', float, 1),\n",
        "                                   ('y', float, 1)]),\n",
        "                    ('color',    [ ('r', float, 1),\n",
        "                                   ('g', float, 1),\n",
        "                                   ('b', float, 1)])])\n",
        "print(Z)"
      ]
    },
    {
      "cell_type": "markdown",
      "id": "d22b8574",
      "metadata": {
        "id": "d22b8574"
      },
      "source": [
        "#### 52. Consider a random vector with shape (100,2) representing coordinates, find point by point distances (★★☆)"
      ]
    },
    {
      "cell_type": "code",
      "execution_count": null,
      "id": "d5c9cdf8",
      "metadata": {
        "id": "d5c9cdf8",
        "outputId": "d2d227af-b1d0-4281-cf98-4dd9e80d5c3c",
        "colab": {
          "base_uri": "https://localhost:8080/"
        }
      },
      "outputs": [
        {
          "output_type": "stream",
          "name": "stdout",
          "text": [
            "[[0.         0.58423821 0.74633453 0.92285387 0.73557011 0.07030401\n",
            "  0.20507538 0.62373024 0.5811566  0.083606  ]\n",
            " [0.58423821 0.         0.67916966 0.77498201 0.51749181 0.56453483\n",
            "  0.64787925 0.40509894 0.42150194 0.54484493]\n",
            " [0.74633453 0.67916966 0.         0.18266597 0.20101528 0.79362494\n",
            "  0.60043993 0.27625927 0.2598105  0.66277063]\n",
            " [0.92285387 0.77498201 0.18266597 0.         0.25762088 0.96685314\n",
            "  0.78271982 0.37912196 0.3871133  0.83928068]\n",
            " [0.73557011 0.51749181 0.20101528 0.25762088 0.         0.76764814\n",
            "  0.6382731  0.12838822 0.15600048 0.65470339]\n",
            " [0.07030401 0.56453483 0.79362494 0.96685314 0.76764814 0.\n",
            "  0.27443524 0.65047211 0.61183291 0.13880028]\n",
            " [0.20507538 0.64787925 0.60043993 0.78271982 0.6382731  0.27443524\n",
            "  0.         0.54960741 0.49761198 0.1515859 ]\n",
            " [0.62373024 0.40509894 0.27625927 0.37912196 0.12838822 0.65047211\n",
            "  0.54960741 0.         0.05550895 0.54546359]\n",
            " [0.5811566  0.42150194 0.2598105  0.3871133  0.15600048 0.61183291\n",
            "  0.49761198 0.05550895 0.         0.50122733]\n",
            " [0.083606   0.54484493 0.66277063 0.83928068 0.65470339 0.13880028\n",
            "  0.1515859  0.54546359 0.50122733 0.        ]]\n",
            "[[0.         0.42861035 0.71371925 0.43658347 0.56978665 0.67992006\n",
            "  0.08278862 0.92520263 0.51012413 0.76906185]\n",
            " [0.42861035 0.         0.91387527 0.46204526 0.77563278 0.81279334\n",
            "  0.34599479 0.56984469 0.12352104 0.39523401]\n",
            " [0.71371925 0.91387527 0.         0.46351666 0.14643379 0.14936214\n",
            "  0.73278213 1.04207656 0.89190581 0.98618489]\n",
            " [0.43658347 0.46204526 0.46351666 0.         0.33926431 0.35128429\n",
            "  0.40330761 0.64648815 0.42866903 0.5498852 ]\n",
            " [0.56978665 0.77563278 0.14643379 0.33926431 0.         0.15134281\n",
            "  0.58661199 0.95614177 0.76221762 0.88148232]\n",
            " [0.67992006 0.81279334 0.14936214 0.35128429 0.15134281 0.\n",
            "  0.68222627 0.8957991  0.77629632 0.84762311]\n",
            " [0.08278862 0.34599479 0.73278213 0.40330761 0.58661199 0.68222627\n",
            "  0.         0.84919613 0.4283111  0.69022593]\n",
            " [0.92520263 0.56984469 1.04207656 0.64648815 0.95614177 0.8957991\n",
            "  0.84919613 0.         0.4487175  0.17591309]\n",
            " [0.51012413 0.12352104 0.89190581 0.42866903 0.76221762 0.77629632\n",
            "  0.4283111  0.4487175  0.         0.27599873]\n",
            " [0.76906185 0.39523401 0.98618489 0.5498852  0.88148232 0.84762311\n",
            "  0.69022593 0.17591309 0.27599873 0.        ]]\n"
          ]
        }
      ],
      "source": [
        "Z = np.random.random((10,2))\n",
        "X,Y = np.atleast_2d(Z[:,0]), np.atleast_2d(Z[:,1])\n",
        "D = np.sqrt( (X-X.T)**2 + (Y-Y.T)**2)\n",
        "print(D)\n",
        "\n",
        "# Much faster with scipy\n",
        "import scipy\n",
        "# Thanks Gavin Heverly-Coulson (#issue 1)\n",
        "import scipy.spatial\n",
        "\n",
        "Z = np.random.random((10,2))\n",
        "D = scipy.spatial.distance.cdist(Z,Z)\n",
        "print(D)"
      ]
    },
    {
      "cell_type": "markdown",
      "id": "f5c164f2",
      "metadata": {
        "id": "f5c164f2"
      },
      "source": [
        "#### 53. How to convert a float (32 bits) array into an integer (32 bits) in place?"
      ]
    },
    {
      "cell_type": "code",
      "execution_count": null,
      "id": "ea262de8",
      "metadata": {
        "id": "ea262de8"
      },
      "outputs": [],
      "source": [
        "Z = np.arange(10, dtype=np.int32)\n",
        "Z = Z.astype(np.float32, copy=False)"
      ]
    },
    {
      "cell_type": "code",
      "source": [
        "import numpy as np\n",
        "\n",
        "# Create a float32 array\n",
        "Z = np.arange(10, dtype=np.float32)\n",
        "\n",
        "# Convert the float32 array to int32 in place\n",
        "Z = Z.view(np.int32)\n",
        "\n",
        "print(Z)"
      ],
      "metadata": {
        "colab": {
          "base_uri": "https://localhost:8080/"
        },
        "id": "juk5FLJ__3In",
        "outputId": "72ca20fe-4040-4c76-ee9d-52bf71931b2f"
      },
      "id": "juk5FLJ__3In",
      "execution_count": null,
      "outputs": [
        {
          "output_type": "stream",
          "name": "stdout",
          "text": [
            "[         0 1065353216 1073741824 1077936128 1082130432 1084227584\n",
            " 1086324736 1088421888 1090519040 1091567616]\n"
          ]
        }
      ]
    },
    {
      "cell_type": "markdown",
      "id": "a8b7e6f5",
      "metadata": {
        "id": "a8b7e6f5"
      },
      "source": [
        "#### 54. How to read the following file? (★★☆)\n",
        "```\n",
        "1, 2, 3, 4, 5\n",
        "6,  ,  , 7, 8\n",
        " ,  , 9,10,11\n",
        "```"
      ]
    },
    {
      "cell_type": "code",
      "execution_count": null,
      "id": "bde0538a",
      "metadata": {
        "id": "bde0538a",
        "outputId": "c9a8b12e-32e6-4f69-f863-82fef965fa75",
        "colab": {
          "base_uri": "https://localhost:8080/"
        }
      },
      "outputs": [
        {
          "output_type": "stream",
          "name": "stdout",
          "text": [
            "(0, 0) 0\n",
            "(0, 1) 1\n",
            "(0, 2) 2\n",
            "(1, 0) 3\n",
            "(1, 1) 4\n",
            "(1, 2) 5\n",
            "(2, 0) 6\n",
            "(2, 1) 7\n",
            "(2, 2) 8\n",
            "(0, 0) 0\n",
            "(0, 1) 1\n",
            "(0, 2) 2\n",
            "(1, 0) 3\n",
            "(1, 1) 4\n",
            "(1, 2) 5\n",
            "(2, 0) 6\n",
            "(2, 1) 7\n",
            "(2, 2) 8\n"
          ]
        }
      ],
      "source": [
        "Z = np.arange(9).reshape(3,3)\n",
        "for index, value in np.ndenumerate(Z):\n",
        "    print(index, value)\n",
        "for index in np.ndindex(Z.shape):\n",
        "    print(index, Z[index])"
      ]
    },
    {
      "cell_type": "markdown",
      "id": "c6b32834",
      "metadata": {
        "id": "c6b32834"
      },
      "source": [
        "#### 55. What is the equivalent of enumerate for numpy arrays? (★★☆)"
      ]
    },
    {
      "cell_type": "code",
      "execution_count": null,
      "id": "ab02472a",
      "metadata": {
        "id": "ab02472a",
        "colab": {
          "base_uri": "https://localhost:8080/"
        },
        "outputId": "8c797408-538c-4144-fcc7-3acde10195de"
      },
      "outputs": [
        {
          "output_type": "stream",
          "name": "stdout",
          "text": [
            "(0, 0) 0\n",
            "(0, 1) 1\n",
            "(0, 2) 2\n",
            "(1, 0) 3\n",
            "(1, 1) 4\n",
            "(1, 2) 5\n",
            "(2, 0) 6\n",
            "(2, 1) 7\n",
            "(2, 2) 8\n",
            "(0, 0) 0\n",
            "(0, 1) 1\n",
            "(0, 2) 2\n",
            "(1, 0) 3\n",
            "(1, 1) 4\n",
            "(1, 2) 5\n",
            "(2, 0) 6\n",
            "(2, 1) 7\n",
            "(2, 2) 8\n"
          ]
        }
      ],
      "source": [
        "Z = np.arange(9).reshape(3,3)\n",
        "for index, value in np.ndenumerate(Z):\n",
        "    print(index, value)\n",
        "for index in np.ndindex(Z.shape):\n",
        "    print(index, Z[index])"
      ]
    },
    {
      "cell_type": "markdown",
      "id": "a2121a05",
      "metadata": {
        "id": "a2121a05"
      },
      "source": [
        "#### 56. Generate a generic 2D Gaussian-like array (★★☆)"
      ]
    },
    {
      "cell_type": "code",
      "execution_count": null,
      "id": "18507102",
      "metadata": {
        "id": "18507102",
        "outputId": "4708635e-16ac-46fc-df3f-2beff01c21fa",
        "colab": {
          "base_uri": "https://localhost:8080/"
        }
      },
      "outputs": [
        {
          "output_type": "stream",
          "name": "stdout",
          "text": [
            "[[0.36787944 0.44822088 0.51979489 0.57375342 0.60279818 0.60279818\n",
            "  0.57375342 0.51979489 0.44822088 0.36787944]\n",
            " [0.44822088 0.54610814 0.63331324 0.69905581 0.73444367 0.73444367\n",
            "  0.69905581 0.63331324 0.54610814 0.44822088]\n",
            " [0.51979489 0.63331324 0.73444367 0.81068432 0.85172308 0.85172308\n",
            "  0.81068432 0.73444367 0.63331324 0.51979489]\n",
            " [0.57375342 0.69905581 0.81068432 0.89483932 0.9401382  0.9401382\n",
            "  0.89483932 0.81068432 0.69905581 0.57375342]\n",
            " [0.60279818 0.73444367 0.85172308 0.9401382  0.98773022 0.98773022\n",
            "  0.9401382  0.85172308 0.73444367 0.60279818]\n",
            " [0.60279818 0.73444367 0.85172308 0.9401382  0.98773022 0.98773022\n",
            "  0.9401382  0.85172308 0.73444367 0.60279818]\n",
            " [0.57375342 0.69905581 0.81068432 0.89483932 0.9401382  0.9401382\n",
            "  0.89483932 0.81068432 0.69905581 0.57375342]\n",
            " [0.51979489 0.63331324 0.73444367 0.81068432 0.85172308 0.85172308\n",
            "  0.81068432 0.73444367 0.63331324 0.51979489]\n",
            " [0.44822088 0.54610814 0.63331324 0.69905581 0.73444367 0.73444367\n",
            "  0.69905581 0.63331324 0.54610814 0.44822088]\n",
            " [0.36787944 0.44822088 0.51979489 0.57375342 0.60279818 0.60279818\n",
            "  0.57375342 0.51979489 0.44822088 0.36787944]]\n"
          ]
        }
      ],
      "source": [
        "X, Y = np.meshgrid(np.linspace(-1,1,10), np.linspace(-1,1,10))\n",
        "D = np.sqrt(X*X+Y*Y)\n",
        "sigma, mu = 1.0, 0.0\n",
        "G = np.exp(-( (D-mu)**2 / ( 2.0 * sigma**2 ) ) )\n",
        "print(G)"
      ]
    },
    {
      "cell_type": "markdown",
      "id": "97055efa",
      "metadata": {
        "id": "97055efa"
      },
      "source": [
        "#### 57. How to randomly place p elements in a 2D array? (★★☆)"
      ]
    },
    {
      "cell_type": "code",
      "execution_count": null,
      "id": "292e842f",
      "metadata": {
        "id": "292e842f",
        "outputId": "cc6d5acc-aedf-4e41-b3c5-185dcfbaa109",
        "colab": {
          "base_uri": "https://localhost:8080/"
        }
      },
      "outputs": [
        {
          "output_type": "stream",
          "name": "stdout",
          "text": [
            "[[0. 0. 0. 0. 0. 0. 0. 1. 0. 0.]\n",
            " [0. 0. 0. 0. 0. 0. 0. 0. 1. 0.]\n",
            " [0. 0. 0. 0. 0. 0. 0. 0. 0. 0.]\n",
            " [0. 0. 0. 0. 0. 0. 0. 0. 0. 0.]\n",
            " [0. 0. 0. 0. 0. 0. 0. 0. 0. 0.]\n",
            " [0. 0. 0. 1. 0. 0. 0. 0. 0. 0.]\n",
            " [0. 0. 0. 0. 0. 0. 0. 0. 0. 0.]\n",
            " [0. 0. 0. 0. 0. 0. 0. 0. 0. 0.]\n",
            " [0. 0. 0. 0. 0. 0. 0. 0. 0. 0.]\n",
            " [0. 0. 0. 0. 0. 0. 0. 0. 0. 0.]]\n"
          ]
        }
      ],
      "source": [
        "n = 10\n",
        "p = 3\n",
        "Z = np.zeros((n,n))\n",
        "np.put(Z, np.random.choice(range(n*n), p, replace=False),1)\n",
        "print (Z)"
      ]
    },
    {
      "cell_type": "markdown",
      "id": "bfd2513c",
      "metadata": {
        "id": "bfd2513c"
      },
      "source": [
        "#### 58. Subtract the mean of each row of a matrix (★★☆)"
      ]
    },
    {
      "cell_type": "code",
      "execution_count": null,
      "id": "f306ab72",
      "metadata": {
        "id": "f306ab72",
        "outputId": "10f2edd6-3bb8-4d1b-c3a3-53466472c694",
        "colab": {
          "base_uri": "https://localhost:8080/"
        }
      },
      "outputs": [
        {
          "output_type": "execute_result",
          "data": {
            "text/plain": [
              "array([[-0.04109882, -0.20401147,  0.4022604 ,  0.40953365,  0.08274971,\n",
              "        -0.02578912,  0.13286498,  0.0047563 , -0.50418714, -0.25707848],\n",
              "       [ 0.19285699, -0.18189826,  0.11840208, -0.20607028, -0.05840226,\n",
              "        -0.24440292, -0.40499052,  0.48295856,  0.05712594,  0.24442066],\n",
              "       [ 0.31519905, -0.43080048, -0.17712574, -0.1638465 ,  0.03575004,\n",
              "        -0.27170234,  0.3358204 ,  0.22112135,  0.24066714, -0.10508292],\n",
              "       [ 0.25643891, -0.3505276 ,  0.36889899, -0.3166031 , -0.23526151,\n",
              "        -0.2411008 ,  0.20460573,  0.13900993, -0.2084519 ,  0.38299134],\n",
              "       [ 0.06914705, -0.22368575, -0.10257095, -0.19042579, -0.28704775,\n",
              "        -0.20029805,  0.38008666,  0.3584209 , -0.12336193,  0.31973562]])"
            ]
          },
          "metadata": {},
          "execution_count": 48
        }
      ],
      "source": [
        "X = np.random.rand(5, 10)\n",
        "\n",
        "# Recent versions of numpy\n",
        "Y = X - X.mean(axis=1, keepdims=True)\n",
        "\n",
        "# Older versions of numpy\n",
        "Y = X - X.mean(axis=1).reshape(-1, 1)\n",
        "Y"
      ]
    },
    {
      "cell_type": "markdown",
      "id": "da9f2f9b",
      "metadata": {
        "id": "da9f2f9b"
      },
      "source": [
        "#### 59. How to sort an array by the nth column? (★★☆)"
      ]
    },
    {
      "cell_type": "code",
      "execution_count": null,
      "id": "68cde57f",
      "metadata": {
        "id": "68cde57f",
        "outputId": "285e6a23-cc8e-437e-c065-ce3f01a977ae",
        "colab": {
          "base_uri": "https://localhost:8080/"
        }
      },
      "outputs": [
        {
          "output_type": "stream",
          "name": "stdout",
          "text": [
            "[[7 6 8]\n",
            " [9 8 6]\n",
            " [6 9 9]]\n",
            "[[7 6 8]\n",
            " [9 8 6]\n",
            " [6 9 9]]\n"
          ]
        }
      ],
      "source": [
        "Z = np.random.randint(0,10,(3,3))\n",
        "print(Z)\n",
        "print(Z[Z[:,1].argsort()])"
      ]
    },
    {
      "cell_type": "markdown",
      "id": "5b7be45c",
      "metadata": {
        "id": "5b7be45c"
      },
      "source": [
        "#### 60. How to tell if a given 2D array has null columns? (★★☆)"
      ]
    },
    {
      "cell_type": "code",
      "execution_count": null,
      "id": "7dbe2c27",
      "metadata": {
        "id": "7dbe2c27",
        "outputId": "e6312c3b-467c-4f7f-ff6b-c68d4ea37115",
        "colab": {
          "base_uri": "https://localhost:8080/"
        }
      },
      "outputs": [
        {
          "output_type": "stream",
          "name": "stdout",
          "text": [
            "False\n"
          ]
        }
      ],
      "source": [
        "Z = np.random.randint(0,3,(3,10))\n",
        "print((~Z.any(axis=0)).any())"
      ]
    },
    {
      "cell_type": "markdown",
      "id": "7c18c02e",
      "metadata": {
        "id": "7c18c02e"
      },
      "source": [
        "#### 61. Find the nearest value from a given value in an array (★★☆)"
      ]
    },
    {
      "cell_type": "code",
      "execution_count": null,
      "id": "b78ae9c4",
      "metadata": {
        "id": "b78ae9c4",
        "outputId": "44e6168e-9ba3-4fc1-883c-e698d1eac7d7",
        "colab": {
          "base_uri": "https://localhost:8080/"
        }
      },
      "outputs": [
        {
          "output_type": "stream",
          "name": "stdout",
          "text": [
            "0.46968978770767567\n"
          ]
        }
      ],
      "source": [
        "Z = np.random.uniform(0,1,10)\n",
        "z = 0.5\n",
        "m = Z.flat[np.abs(Z - z).argmin()]\n",
        "print(m)"
      ]
    },
    {
      "cell_type": "markdown",
      "id": "8174ba2c",
      "metadata": {
        "id": "8174ba2c"
      },
      "source": [
        "#### 62. Considering two arrays with shape (1,3) and (3,1), how to compute their sum using an iterator? (★★☆)"
      ]
    },
    {
      "cell_type": "code",
      "execution_count": null,
      "id": "8a18fe57",
      "metadata": {
        "id": "8a18fe57",
        "colab": {
          "base_uri": "https://localhost:8080/"
        },
        "outputId": "2d452e79-4a23-4f3d-f78f-62dc8fe86cee"
      },
      "outputs": [
        {
          "output_type": "stream",
          "name": "stdout",
          "text": [
            "[[0 1 2]\n",
            " [1 2 3]\n",
            " [2 3 4]]\n"
          ]
        }
      ],
      "source": [
        "A = np.arange(3).reshape(3,1)\n",
        "B = np.arange(3).reshape(1,3)\n",
        "it = np.nditer([A,B,None])\n",
        "for x,y,z in it: z[...] = x + y\n",
        "print(it.operands[2])"
      ]
    },
    {
      "cell_type": "markdown",
      "id": "9189bd7c",
      "metadata": {
        "id": "9189bd7c"
      },
      "source": [
        "#### 63. Create an array class that has a name attribute (★★☆)"
      ]
    },
    {
      "cell_type": "code",
      "execution_count": null,
      "id": "1c01ed42",
      "metadata": {
        "id": "1c01ed42",
        "colab": {
          "base_uri": "https://localhost:8080/"
        },
        "outputId": "9b6a9ad8-9fe7-4462-8ed5-f7a34d678a3d"
      },
      "outputs": [
        {
          "output_type": "stream",
          "name": "stdout",
          "text": [
            "range_10\n"
          ]
        }
      ],
      "source": [
        "class NamedArray(np.ndarray):\n",
        "    def __new__(cls, array, name=\"no name\"):\n",
        "        obj = np.asarray(array).view(cls)\n",
        "        obj.name = name\n",
        "        return obj\n",
        "    def __array_finalize__(self, obj):\n",
        "        if obj is None: return\n",
        "        self.info = getattr(obj, 'name', \"no name\")\n",
        "\n",
        "Z = NamedArray(np.arange(10), \"range_10\")\n",
        "print (Z.name)"
      ]
    },
    {
      "cell_type": "markdown",
      "id": "f30162d2",
      "metadata": {
        "id": "f30162d2"
      },
      "source": [
        "#### 64. Consider a given vector, how to add 1 to each element indexed by a second vector (be careful with repeated indices)? (★★★)"
      ]
    },
    {
      "cell_type": "code",
      "execution_count": null,
      "id": "093ba36f",
      "metadata": {
        "id": "093ba36f",
        "outputId": "8ce1ab49-2a86-442c-f10e-64062070007d",
        "colab": {
          "base_uri": "https://localhost:8080/"
        }
      },
      "outputs": [
        {
          "output_type": "stream",
          "name": "stdout",
          "text": [
            "[3. 3. 4. 3. 4. 2. 3. 3. 3. 2.]\n"
          ]
        }
      ],
      "source": [
        "Z = np.ones(10)\n",
        "I = np.random.randint(0,len(Z),20)\n",
        "Z += np.bincount(I, minlength=len(Z))\n",
        "print(Z)"
      ]
    },
    {
      "cell_type": "markdown",
      "id": "f5b1c584",
      "metadata": {
        "id": "f5b1c584"
      },
      "source": [
        "#### 65. How to accumulate elements of a vector (X) to an array (F) based on an index list (I)? (★★★)"
      ]
    },
    {
      "cell_type": "code",
      "execution_count": null,
      "id": "c9d92a75",
      "metadata": {
        "id": "c9d92a75",
        "outputId": "8baf8c01-eb5a-4a44-96cf-80c0bc54a8a8",
        "colab": {
          "base_uri": "https://localhost:8080/"
        }
      },
      "outputs": [
        {
          "output_type": "stream",
          "name": "stdout",
          "text": [
            "[0. 7. 0. 6. 5. 0. 0. 0. 0. 3.]\n"
          ]
        }
      ],
      "source": [
        "X = [1,2,3,4,5,6]\n",
        "I = [1,3,9,3,4,1]\n",
        "F = np.bincount(I,X)\n",
        "print(F)"
      ]
    },
    {
      "cell_type": "markdown",
      "id": "994c452d",
      "metadata": {
        "id": "994c452d"
      },
      "source": [
        "#### 66. Considering a (w,h,3) image of (dtype=ubyte), compute the number of unique colors (★★☆)"
      ]
    },
    {
      "cell_type": "code",
      "execution_count": null,
      "id": "269cdaea",
      "metadata": {
        "id": "269cdaea",
        "outputId": "89c2d42a-d33d-4fbf-b152-607e1c594ca1",
        "colab": {
          "base_uri": "https://localhost:8080/"
        }
      },
      "outputs": [
        {
          "output_type": "stream",
          "name": "stdout",
          "text": [
            "[0 1]\n"
          ]
        }
      ],
      "source": [
        "w,h = 16,16\n",
        "I = np.random.randint(0,2,(h,w,3)).astype(np.ubyte)\n",
        "F = I[...,0]*256*256 + I[...,1]*256 +I[...,2]\n",
        "n = len(np.unique(F))\n",
        "print(np.unique(I))"
      ]
    },
    {
      "cell_type": "markdown",
      "id": "4bddeb31",
      "metadata": {
        "id": "4bddeb31"
      },
      "source": [
        "#### 67. Considering a four dimensions array, how to get sum over the last two axis at once? (★★★)"
      ]
    },
    {
      "cell_type": "code",
      "execution_count": null,
      "id": "32af15f5",
      "metadata": {
        "id": "32af15f5",
        "outputId": "e4f44f2d-c871-4961-a98a-b382b2eb802d",
        "colab": {
          "base_uri": "https://localhost:8080/"
        }
      },
      "outputs": [
        {
          "output_type": "stream",
          "name": "stdout",
          "text": [
            "[[50 56 47 61]\n",
            " [47 46 51 55]\n",
            " [59 46 60 45]]\n"
          ]
        }
      ],
      "source": [
        "A = np.random.randint(0,10,(3,4,3,4))\n",
        "sum = A.reshape(A.shape[:-2] + (-1,)).sum(axis=-1)\n",
        "print(sum)"
      ]
    },
    {
      "cell_type": "markdown",
      "id": "c4cf083c",
      "metadata": {
        "id": "c4cf083c"
      },
      "source": [
        "#### 68. Considering a one-dimensional vector D, how to compute means of subsets of D using a vector S of same size describing subset  indices? (★★★)"
      ]
    },
    {
      "cell_type": "code",
      "execution_count": null,
      "id": "9600a2dd",
      "metadata": {
        "id": "9600a2dd",
        "outputId": "bb0d9a9e-ec3d-4c8b-d9a5-8b689535e994",
        "colab": {
          "base_uri": "https://localhost:8080/"
        }
      },
      "outputs": [
        {
          "output_type": "stream",
          "name": "stdout",
          "text": [
            "[0.44097595 0.54323627 0.56137279 0.36194043 0.33883924 0.53669137\n",
            " 0.57152581 0.49713915 0.53417413 0.54214685]\n"
          ]
        }
      ],
      "source": [
        "D = np.random.uniform(0,1,100)\n",
        "S = np.random.randint(0,10,100)\n",
        "D_sums = np.bincount(S, weights=D)\n",
        "D_counts = np.bincount(S)\n",
        "D_means = D_sums / D_counts\n",
        "print(D_means)"
      ]
    },
    {
      "cell_type": "markdown",
      "id": "a5e316db",
      "metadata": {
        "id": "a5e316db"
      },
      "source": [
        "#### 69. How to get the diagonal of a dot product? (★★★)"
      ]
    },
    {
      "cell_type": "code",
      "execution_count": null,
      "id": "94735dbd",
      "metadata": {
        "id": "94735dbd",
        "outputId": "23177d6d-13e3-45a2-ea11-21c7c8c18e2e",
        "colab": {
          "base_uri": "https://localhost:8080/"
        }
      },
      "outputs": [
        {
          "output_type": "execute_result",
          "data": {
            "text/plain": [
              "array([75, 76, 81])"
            ]
          },
          "metadata": {},
          "execution_count": 57
        }
      ],
      "source": [
        "A = np.random.randint(0,10,(3,3))\n",
        "B= np.random.randint(0,10,(3,3))\n",
        "#Slow version\n",
        "\n",
        "np.diag(np.dot(A, B))\n",
        "\n",
        "# Fast version\n",
        "np.sum(A * B.T, axis=1)\n",
        "\n",
        "# Faster version\n",
        "np.einsum(\"ij,ji->i\", A, B)"
      ]
    },
    {
      "cell_type": "markdown",
      "id": "de727a7b",
      "metadata": {
        "id": "de727a7b"
      },
      "source": [
        "#### 70. Consider the vector [1, 2, 3, 4, 5], how to build a new vector with 3 consecutive zeros interleaved between each value? (★★★)"
      ]
    },
    {
      "cell_type": "code",
      "execution_count": null,
      "id": "982be812",
      "metadata": {
        "id": "982be812",
        "outputId": "c491bfbc-45bb-45b5-a1e6-a2f39022d985",
        "colab": {
          "base_uri": "https://localhost:8080/"
        }
      },
      "outputs": [
        {
          "output_type": "stream",
          "name": "stdout",
          "text": [
            "[1. 0. 0. 0. 2. 0. 0. 0. 3. 0. 0. 0. 4. 0. 0. 0. 5.]\n"
          ]
        }
      ],
      "source": [
        "Z = np.array([1,2,3,4,5])\n",
        "nz = 3\n",
        "Z0 = np.zeros(len(Z) + (len(Z)-1)*(nz))\n",
        "Z0[::nz+1] = Z\n",
        "print(Z0)"
      ]
    },
    {
      "cell_type": "markdown",
      "id": "a9a73d6b",
      "metadata": {
        "id": "a9a73d6b"
      },
      "source": [
        "#### 71. Consider an array of dimension (5,5,3), how to mulitply it by an array with dimensions (5,5)? (★★★)"
      ]
    },
    {
      "cell_type": "code",
      "execution_count": null,
      "id": "282a90cc",
      "metadata": {
        "id": "282a90cc",
        "outputId": "9480b031-5c29-4902-ac74-548c577cf0ca",
        "colab": {
          "base_uri": "https://localhost:8080/"
        }
      },
      "outputs": [
        {
          "output_type": "stream",
          "name": "stdout",
          "text": [
            "[[[2. 2. 2.]\n",
            "  [2. 2. 2.]\n",
            "  [2. 2. 2.]\n",
            "  [2. 2. 2.]\n",
            "  [2. 2. 2.]]\n",
            "\n",
            " [[2. 2. 2.]\n",
            "  [2. 2. 2.]\n",
            "  [2. 2. 2.]\n",
            "  [2. 2. 2.]\n",
            "  [2. 2. 2.]]\n",
            "\n",
            " [[2. 2. 2.]\n",
            "  [2. 2. 2.]\n",
            "  [2. 2. 2.]\n",
            "  [2. 2. 2.]\n",
            "  [2. 2. 2.]]\n",
            "\n",
            " [[2. 2. 2.]\n",
            "  [2. 2. 2.]\n",
            "  [2. 2. 2.]\n",
            "  [2. 2. 2.]\n",
            "  [2. 2. 2.]]\n",
            "\n",
            " [[2. 2. 2.]\n",
            "  [2. 2. 2.]\n",
            "  [2. 2. 2.]\n",
            "  [2. 2. 2.]\n",
            "  [2. 2. 2.]]]\n"
          ]
        }
      ],
      "source": [
        "A = np.ones((5,5,3))\n",
        "B = 2*np.ones((5,5))\n",
        "print(A * B[:,:,None])"
      ]
    },
    {
      "cell_type": "markdown",
      "id": "a951c78f",
      "metadata": {
        "id": "a951c78f"
      },
      "source": [
        "#### 72. How to swap two rows of an array? (★★★)"
      ]
    },
    {
      "cell_type": "code",
      "execution_count": null,
      "id": "e29b3fde",
      "metadata": {
        "id": "e29b3fde",
        "outputId": "9e4af9d1-fecc-477b-f447-7f81976c32a4",
        "colab": {
          "base_uri": "https://localhost:8080/"
        }
      },
      "outputs": [
        {
          "output_type": "stream",
          "name": "stdout",
          "text": [
            "[[ 5  6  7  8  9]\n",
            " [ 0  1  2  3  4]\n",
            " [10 11 12 13 14]\n",
            " [15 16 17 18 19]\n",
            " [20 21 22 23 24]]\n"
          ]
        }
      ],
      "source": [
        "A = np.arange(25).reshape(5,5)\n",
        "A[[0,1]] = A[[1,0]]\n",
        "print(A)"
      ]
    },
    {
      "cell_type": "markdown",
      "id": "43b639e8",
      "metadata": {
        "id": "43b639e8"
      },
      "source": [
        "#### 73. Consider a set of 10 triplets describing 10 triangles (with shared vertices), find the set of unique line segments composing all the  triangles (★★★)"
      ]
    },
    {
      "cell_type": "code",
      "execution_count": null,
      "id": "147e1034",
      "metadata": {
        "id": "147e1034",
        "outputId": "b37158cd-cc1e-4934-8e77-15b12532429e",
        "colab": {
          "base_uri": "https://localhost:8080/"
        }
      },
      "outputs": [
        {
          "output_type": "stream",
          "name": "stdout",
          "text": [
            "[( 0, 11) ( 0, 56) ( 0, 93) ( 0, 96) ( 9, 57) ( 9, 87) (11, 96) (13, 39)\n",
            " (13, 80) (14, 36) (14, 66) (19, 31) (19, 83) (20, 39) (20, 87) (23, 30)\n",
            " (23, 48) (30, 48) (31, 83) (36, 66) (39, 80) (39, 87) (44, 51) (44, 85)\n",
            " (51, 85) (52, 67) (52, 73) (56, 93) (57, 87) (67, 73)]\n"
          ]
        }
      ],
      "source": [
        "faces = np.random.randint(0,100,(10,3))\n",
        "F = np.roll(faces.repeat(2,axis=1),-1,axis=1)\n",
        "F = F.reshape(len(F)*3,2)\n",
        "F = np.sort(F,axis=1)\n",
        "G = F.view( dtype=[('p0',F.dtype),('p1',F.dtype)] )\n",
        "G = np.unique(G)\n",
        "print(G)"
      ]
    },
    {
      "cell_type": "markdown",
      "id": "d41de585",
      "metadata": {
        "id": "d41de585"
      },
      "source": [
        "#### 74. Given a sorted array C that corresponds to a bincount, how to produce an array A such that np.bincount(A) == C? (★★★)"
      ]
    },
    {
      "cell_type": "code",
      "execution_count": null,
      "id": "5f5d6e36",
      "metadata": {
        "id": "5f5d6e36",
        "outputId": "ac0affe6-a02f-4c22-9857-8d619228ba3f",
        "colab": {
          "base_uri": "https://localhost:8080/"
        }
      },
      "outputs": [
        {
          "output_type": "stream",
          "name": "stdout",
          "text": [
            "[1 1 2 3 4 4 6]\n"
          ]
        }
      ],
      "source": [
        "C = np.bincount([1,1,2,3,4,4,6])\n",
        "A = np.repeat(np.arange(len(C)), C)\n",
        "print(A)"
      ]
    },
    {
      "cell_type": "markdown",
      "id": "b50adf7c",
      "metadata": {
        "id": "b50adf7c"
      },
      "source": [
        "#### 75. How to compute averages using a sliding window over an array? (★★★)"
      ]
    },
    {
      "cell_type": "code",
      "execution_count": null,
      "id": "e631a9d2",
      "metadata": {
        "id": "e631a9d2",
        "outputId": "4537fda8-25c5-4a7a-c9ed-9ee520b89c50",
        "colab": {
          "base_uri": "https://localhost:8080/"
        }
      },
      "outputs": [
        {
          "output_type": "stream",
          "name": "stdout",
          "text": [
            "[ 1.  2.  3.  4.  5.  6.  7.  8.  9. 10. 11. 12. 13. 14. 15. 16. 17. 18.]\n"
          ]
        }
      ],
      "source": [
        "def moving_average(a, n=3) :\n",
        "    ret = np.cumsum(a, dtype=float)\n",
        "    ret[n:] = ret[n:] - ret[:-n]\n",
        "    return ret[n - 1:] / n\n",
        "Z = np.arange(20)\n",
        "print(moving_average(Z, n=3))"
      ]
    },
    {
      "cell_type": "markdown",
      "id": "1ab4c50d",
      "metadata": {
        "id": "1ab4c50d"
      },
      "source": [
        "#### 76. Consider a one-dimensional array Z, build a two-dimensional array whose first row is (Z[0],Z[1],Z[2]) and each subsequent row is  shifted by 1 (last row should be (Z[-3],Z[-2],Z[-1]) (★★★)"
      ]
    },
    {
      "cell_type": "code",
      "execution_count": null,
      "id": "3ccfe2c0",
      "metadata": {
        "id": "3ccfe2c0",
        "outputId": "9f5865bd-51e7-4866-af27-ebd50d4ee25d",
        "colab": {
          "base_uri": "https://localhost:8080/"
        }
      },
      "outputs": [
        {
          "output_type": "stream",
          "name": "stdout",
          "text": [
            "[[0 1 2]\n",
            " [1 2 3]\n",
            " [2 3 4]\n",
            " [3 4 5]\n",
            " [4 5 6]\n",
            " [5 6 7]\n",
            " [6 7 8]\n",
            " [7 8 9]]\n"
          ]
        }
      ],
      "source": [
        "def rolling(a, window):\n",
        "    shape = (a.size - window + 1, window)\n",
        "    strides = (a.itemsize, a.itemsize)\n",
        "    return np.lib.stride_tricks.as_strided(a, shape=shape, strides=strides)\n",
        "Z = rolling(np.arange(10), 3)\n",
        "print(Z)"
      ]
    },
    {
      "cell_type": "markdown",
      "id": "5b4fe59d",
      "metadata": {
        "id": "5b4fe59d"
      },
      "source": [
        "#### 77. How to negate a boolean, or to change the sign of a float inplace? (★★★)"
      ]
    },
    {
      "cell_type": "code",
      "execution_count": null,
      "id": "3c2373ff",
      "metadata": {
        "id": "3c2373ff",
        "outputId": "a8fd883d-24a0-4aa1-fa5a-078ee09d8768",
        "colab": {
          "base_uri": "https://localhost:8080/"
        }
      },
      "outputs": [
        {
          "output_type": "stream",
          "name": "stdout",
          "text": [
            "original: \n",
            "[0 1 0 0 1 1 0 0 0 0 1 0 1 1 1 1 1 1 1 0 1 0 1 1 0 1 0 1 0 1 1 1 0 1 0 0 1\n",
            " 0 1 1 1 1 1 1 0 0 1 1 1 1 1 1 1 0 1 1 1 0 0 0 0 1 0 0 0 0 1 1 1 1 1 0 1 1\n",
            " 1 0 0 0 0 0 0 1 0 1 1 1 1 0 0 0 1 1 0 1 1 0 0 0 1 0]\n",
            "Negating a boolean: \n",
            "[1 0 1 1 0 0 1 1 1 1 0 1 0 0 0 0 0 0 0 1 0 1 0 0 1 0 1 0 1 0 0 0 1 0 1 1 0\n",
            " 1 0 0 0 0 0 0 1 1 0 0 0 0 0 0 0 1 0 0 0 1 1 1 1 0 1 1 1 1 0 0 0 0 0 1 0 0\n",
            " 0 1 1 1 1 1 1 0 1 0 0 0 0 1 1 1 0 0 1 0 0 1 1 1 0 1]\n",
            "original: \n",
            "[ 0.3699545  -0.73633741 -0.68939721  0.36496505 -0.2835947   0.63328742\n",
            " -0.35299093 -0.93965186  0.13295729  0.67638565]\n",
            "Change the sign of float inplace: \n",
            "[-0.3699545   0.73633741  0.68939721 -0.36496505  0.2835947  -0.63328742\n",
            "  0.35299093  0.93965186 -0.13295729 -0.67638565]\n"
          ]
        }
      ],
      "source": [
        "Z = np.random.randint(0,2,100)\n",
        "print ('original: ')\n",
        "print (Z)\n",
        "print('Negating a boolean: ')\n",
        "print(np.logical_not(Z, out=Z))\n",
        "\n",
        "\n",
        "Z = np.random.uniform(-1.0,1.0,10)\n",
        "print ('original: ')\n",
        "print (Z)\n",
        "print ('Change the sign of float inplace: ')\n",
        "print(np.negative(Z, out=Z))"
      ]
    },
    {
      "cell_type": "markdown",
      "id": "119ab5af",
      "metadata": {
        "id": "119ab5af"
      },
      "source": [
        "#### 78. Consider 2 sets of points P0,P1 describing lines (2d) and a point p, how to compute distance from p to each line i (P0[i],P1[i])? (★★★)"
      ]
    },
    {
      "cell_type": "code",
      "execution_count": null,
      "id": "1d8d06dc",
      "metadata": {
        "id": "1d8d06dc",
        "outputId": "e0a5ee1c-5de2-46aa-d02c-a6e144350967",
        "colab": {
          "base_uri": "https://localhost:8080/"
        }
      },
      "outputs": [
        {
          "output_type": "stream",
          "name": "stdout",
          "text": [
            "[1.98751179 0.4139575  2.12999683 9.98359763 7.40084134 6.11746975\n",
            " 2.30445114 9.28722794 6.27227363 4.2407317 ]\n"
          ]
        }
      ],
      "source": [
        "def distance(P0, P1, p):\n",
        "    T = P1 - P0\n",
        "    L = (T**2).sum(axis=1)\n",
        "    U = -((P0[:,0]-p[...,0])*T[:,0] + (P0[:,1]-p[...,1])*T[:,1]) / L\n",
        "    U = U.reshape(len(U),1)\n",
        "    D = P0 + U*T - p\n",
        "    return np.sqrt((D**2).sum(axis=1))\n",
        "\n",
        "P0 = np.random.uniform(-10,10,(10,2))\n",
        "P1 = np.random.uniform(-10,10,(10,2))\n",
        "p  = np.random.uniform(-10,10,( 1,2))\n",
        "print(distance(P0, P1, p))"
      ]
    },
    {
      "cell_type": "markdown",
      "id": "e5e7f323",
      "metadata": {
        "id": "e5e7f323"
      },
      "source": [
        "#### 79. Consider 2 sets of points P0,P1 describing lines (2d) and a set of points P, how to compute distance from each point j (P[j]) to each line i (P0[i],P1[i])? (★★★)"
      ]
    },
    {
      "cell_type": "code",
      "execution_count": null,
      "id": "d0ce77e2",
      "metadata": {
        "id": "d0ce77e2",
        "outputId": "34fdc87c-9d41-4d25-f4da-2006bedfa538",
        "colab": {
          "base_uri": "https://localhost:8080/"
        }
      },
      "outputs": [
        {
          "output_type": "stream",
          "name": "stdout",
          "text": [
            "[[ 8.78824822  1.37585244  0.49279742  3.15273727  4.43934049]\n",
            " [ 0.41873209 12.24909892  6.13592252  6.04422547  7.53171748]\n",
            " [13.93896208  4.00052702  5.04129413  8.119078    2.56106276]\n",
            " [ 1.99535557 14.7248917   5.73866117  8.5218854   8.6506607 ]\n",
            " [18.12537707  5.67183884  9.38155466 12.10001079  0.29294027]]\n"
          ]
        }
      ],
      "source": [
        "P0 = np.random.uniform(-10, 10, (5,2))\n",
        "P1 = np.random.uniform(-10,10,(5,2))\n",
        "p = np.random.uniform(-10, 10, (5,2))\n",
        "print (np.array([distance(P0,P1,p_i) for p_i in p]))"
      ]
    },
    {
      "cell_type": "markdown",
      "id": "9b9d03eb",
      "metadata": {
        "id": "9b9d03eb"
      },
      "source": [
        "#### 80. Consider an arbitrary array, write a function that extract a subpart with a fixed shape and centered on a given element (pad with a `fill` value when necessary) (★★★)"
      ]
    },
    {
      "cell_type": "code",
      "execution_count": null,
      "id": "ec2b7ae3",
      "metadata": {
        "id": "ec2b7ae3",
        "outputId": "7b317ea8-821a-47e6-d814-1c30c064c468",
        "colab": {
          "base_uri": "https://localhost:8080/"
        }
      },
      "outputs": [
        {
          "output_type": "stream",
          "name": "stdout",
          "text": [
            "[[6 3 7 2 6 1 9 1 3 4]\n",
            " [2 6 4 0 7 0 0 3 1 5]\n",
            " [9 4 9 8 0 2 2 3 2 2]\n",
            " [1 8 9 4 3 6 9 0 6 3]\n",
            " [1 1 1 5 1 9 2 1 3 4]\n",
            " [7 4 4 4 4 3 3 1 7 8]\n",
            " [4 4 9 6 7 0 9 5 3 9]\n",
            " [1 8 2 5 9 9 4 7 3 6]\n",
            " [4 4 4 3 1 9 8 1 8 8]\n",
            " [4 8 6 8 8 0 1 7 0 0]]\n",
            "[[0 0 0 0 0]\n",
            " [0 6 3 7 2]\n",
            " [0 2 6 4 0]\n",
            " [0 9 4 9 8]\n",
            " [0 1 8 9 4]]\n"
          ]
        },
        {
          "output_type": "stream",
          "name": "stderr",
          "text": [
            "/usr/local/lib/python3.7/dist-packages/ipykernel_launcher.py:23: FutureWarning: Using a non-tuple sequence for multidimensional indexing is deprecated; use `arr[tuple(seq)]` instead of `arr[seq]`. In the future this will be interpreted as an array index, `arr[np.array(seq)]`, which will result either in an error or a different result.\n"
          ]
        }
      ],
      "source": [
        "Z = np.random.randint(0,10,(10,10))\n",
        "shape = (5,5)\n",
        "fill  = 0\n",
        "position = (1,1)\n",
        "\n",
        "R = np.ones(shape, dtype=Z.dtype)*fill\n",
        "P  = np.array(list(position)).astype(int)\n",
        "Rs = np.array(list(R.shape)).astype(int)\n",
        "Zs = np.array(list(Z.shape)).astype(int)\n",
        "\n",
        "R_start = np.zeros((len(shape),)).astype(int)\n",
        "R_stop  = np.array(list(shape)).astype(int)\n",
        "Z_start = (P-Rs//2)\n",
        "Z_stop  = (P+Rs//2)+Rs%2\n",
        "\n",
        "R_start = (R_start - np.minimum(Z_start,0)).tolist()\n",
        "Z_start = (np.maximum(Z_start,0)).tolist()\n",
        "R_stop = np.maximum(R_start, (R_stop - np.maximum(Z_stop-Zs,0))).tolist()\n",
        "Z_stop = (np.minimum(Z_stop,Zs)).tolist()\n",
        "\n",
        "r = [slice(start,stop) for start,stop in zip(R_start,R_stop)]\n",
        "z = [slice(start,stop) for start,stop in zip(Z_start,Z_stop)]\n",
        "R[r] = Z[z]\n",
        "print(Z)\n",
        "print(R)"
      ]
    },
    {
      "cell_type": "markdown",
      "id": "27794913",
      "metadata": {
        "id": "27794913"
      },
      "source": [
        "#### 81. Consider an array Z = [1,2,3,4,5,6,7,8,9,10,11,12,13,14], how to generate an array R = [[1,2,3,4], [2,3,4,5], [3,4,5,6], ..., [11,12,13,14]]? (★★★)"
      ]
    },
    {
      "cell_type": "code",
      "execution_count": null,
      "id": "f3e7878b",
      "metadata": {
        "id": "f3e7878b",
        "outputId": "5da69dce-70ce-440b-eb97-96db64613ac5",
        "colab": {
          "base_uri": "https://localhost:8080/"
        }
      },
      "outputs": [
        {
          "output_type": "stream",
          "name": "stdout",
          "text": [
            "original: \n",
            "[ 1  2  3  4  5  6  7  8  9 10 11 12 13 14]\n",
            "after strides: \n",
            "[[ 1  2  3  4]\n",
            " [ 2  3  4  5]\n",
            " [ 3  4  5  6]\n",
            " [ 4  5  6  7]\n",
            " [ 5  6  7  8]\n",
            " [ 6  7  8  9]\n",
            " [ 7  8  9 10]\n",
            " [ 8  9 10 11]\n",
            " [ 9 10 11 12]\n",
            " [10 11 12 13]\n",
            " [11 12 13 14]]\n"
          ]
        }
      ],
      "source": [
        "Z = np.arange(1,15,dtype=int)\n",
        "\n",
        "def rolling(a, window):\n",
        "    shape = (a.size - window + 1, window)\n",
        "    strides = (a.itemsize, a.itemsize)\n",
        "    return np.lib.stride_tricks.as_strided(a, shape=shape, strides=strides)\n",
        "R = rolling(Z, 4)\n",
        "print ('original: ')\n",
        "print (Z)\n",
        "print ('after strides: ')\n",
        "print(R)"
      ]
    },
    {
      "cell_type": "markdown",
      "id": "fae786f5",
      "metadata": {
        "id": "fae786f5"
      },
      "source": [
        "#### 82. Compute a matrix rank (★★★)"
      ]
    },
    {
      "cell_type": "code",
      "execution_count": null,
      "id": "64b9615b",
      "metadata": {
        "id": "64b9615b",
        "outputId": "d2878449-a988-4d5b-d857-dfe5a7b1ca93",
        "colab": {
          "base_uri": "https://localhost:8080/"
        }
      },
      "outputs": [
        {
          "output_type": "stream",
          "name": "stdout",
          "text": [
            "10\n"
          ]
        }
      ],
      "source": [
        "Z = np.random.uniform(0,1,(10,10))\n",
        "U, S, V = np.linalg.svd(Z) # Singular Value Decomposition\n",
        "rank = np.sum(S > 1e-10)\n",
        "print (rank)"
      ]
    },
    {
      "cell_type": "markdown",
      "id": "c85aa0b9",
      "metadata": {
        "id": "c85aa0b9"
      },
      "source": [
        "#### 83. How to find the most frequent value in an array?"
      ]
    },
    {
      "cell_type": "code",
      "execution_count": null,
      "id": "056be85b",
      "metadata": {
        "id": "056be85b",
        "outputId": "469047a0-753b-43e9-bcf6-525be2e3880e",
        "colab": {
          "base_uri": "https://localhost:8080/"
        }
      },
      "outputs": [
        {
          "output_type": "stream",
          "name": "stdout",
          "text": [
            "[9 1 9 3 8 7 4 0 4 6 2 4 3 0 4 9 9 9 6 7 2 7 9 7 8 2 2 4 9 3 6 5 0 0 2 6 0\n",
            " 2 1 9 6 9 2 0 6 5 5 9 6 3]\n",
            "rank: 9\n"
          ]
        }
      ],
      "source": [
        "Z = np.random.randint(0,10,50)\n",
        "print (Z)\n",
        "print('rank:', np.bincount(Z).argmax())"
      ]
    },
    {
      "cell_type": "markdown",
      "id": "0ff2344d",
      "metadata": {
        "id": "0ff2344d"
      },
      "source": [
        "#### 84. Extract all the contiguous 3x3 blocks from a random 10x10 matrix (★★★)"
      ]
    },
    {
      "cell_type": "code",
      "execution_count": null,
      "id": "d58b1318",
      "metadata": {
        "id": "d58b1318",
        "outputId": "87878241-92ea-4cef-e269-5a0a1cd46c4a",
        "colab": {
          "base_uri": "https://localhost:8080/"
        }
      },
      "outputs": [
        {
          "output_type": "stream",
          "name": "stdout",
          "text": [
            "[[[[4 2 4]\n",
            "   [0 2 0]\n",
            "   [2 4 1]]\n",
            "\n",
            "  [[2 4 2]\n",
            "   [2 0 1]\n",
            "   [4 1 0]]\n",
            "\n",
            "  [[4 2 3]\n",
            "   [0 1 0]\n",
            "   [1 0 3]]\n",
            "\n",
            "  [[2 3 4]\n",
            "   [1 0 2]\n",
            "   [0 3 0]]]\n",
            "\n",
            "\n",
            " [[[0 2 0]\n",
            "   [2 4 1]\n",
            "   [0 3 0]]\n",
            "\n",
            "  [[2 0 1]\n",
            "   [4 1 0]\n",
            "   [3 0 0]]\n",
            "\n",
            "  [[0 1 0]\n",
            "   [1 0 3]\n",
            "   [0 0 2]]\n",
            "\n",
            "  [[1 0 2]\n",
            "   [0 3 0]\n",
            "   [0 2 2]]]\n",
            "\n",
            "\n",
            " [[[2 4 1]\n",
            "   [0 3 0]\n",
            "   [0 3 1]]\n",
            "\n",
            "  [[4 1 0]\n",
            "   [3 0 0]\n",
            "   [3 1 2]]\n",
            "\n",
            "  [[1 0 3]\n",
            "   [0 0 2]\n",
            "   [1 2 3]]\n",
            "\n",
            "  [[0 3 0]\n",
            "   [0 2 2]\n",
            "   [2 3 2]]]\n",
            "\n",
            "\n",
            " [[[0 3 0]\n",
            "   [0 3 1]\n",
            "   [2 3 4]]\n",
            "\n",
            "  [[3 0 0]\n",
            "   [3 1 2]\n",
            "   [3 4 3]]\n",
            "\n",
            "  [[0 0 2]\n",
            "   [1 2 3]\n",
            "   [4 3 2]]\n",
            "\n",
            "  [[0 2 2]\n",
            "   [2 3 2]\n",
            "   [3 2 0]]]]\n"
          ]
        }
      ],
      "source": [
        "Z = np.random.randint(0,5,(6,6))\n",
        "n = 3\n",
        "i = 1 + (Z.shape[0]-3)\n",
        "j = 1 + (Z.shape[1]-3)\n",
        "C = np.lib.stride_tricks.as_strided(Z, shape=(i, j, n, n), strides=Z.strides + Z.strides)\n",
        "print(C)"
      ]
    },
    {
      "cell_type": "markdown",
      "id": "1a18b263",
      "metadata": {
        "id": "1a18b263"
      },
      "source": [
        "#### 85. Create a 2D array subclass such that Z[i,j] == Z[j,i] (★★★)"
      ]
    },
    {
      "cell_type": "code",
      "execution_count": null,
      "id": "87f17adc",
      "metadata": {
        "id": "87f17adc",
        "outputId": "f52b3274-26d9-4165-c6a4-ebdc150ce2b1",
        "colab": {
          "base_uri": "https://localhost:8080/"
        }
      },
      "outputs": [
        {
          "output_type": "stream",
          "name": "stdout",
          "text": [
            "[[ 8  7  9  2 13]\n",
            " [ 7  2  0 18 10]\n",
            " [ 9  0  0 42  8]\n",
            " [ 2 18 42  0  5]\n",
            " [13 10  8  5  0]]\n"
          ]
        }
      ],
      "source": [
        "# Author: Eric O. Lebigot\n",
        "# Note: only works for 2d array and value setting using indices\n",
        "\n",
        "class Symetric(np.ndarray):\n",
        "    def __setitem__(self, index, value):\n",
        "        i,j = index\n",
        "        super(Symetric, self).__setitem__((i,j), value)\n",
        "        super(Symetric, self).__setitem__((j,i), value)\n",
        "\n",
        "def symetric(Z):\n",
        "    return np.asarray(Z + Z.T - np.diag(Z.diagonal())).view(Symetric)\n",
        "\n",
        "S = symetric(np.random.randint(0,10,(5,5)))\n",
        "S[2,3] = 42\n",
        "print(S)"
      ]
    },
    {
      "cell_type": "markdown",
      "id": "f85f2cad",
      "metadata": {
        "id": "f85f2cad"
      },
      "source": [
        "#### 86. Consider a set of p matrices wich shape (n,n) and a set of p vectors with shape (n,1). How to compute the sum of of the p matrix products at once? (result has shape (n,1)) (★★★)"
      ]
    },
    {
      "cell_type": "code",
      "execution_count": null,
      "id": "8d230557",
      "metadata": {
        "id": "8d230557",
        "outputId": "bdd245d8-1a20-4697-828d-7b9dad1696a8",
        "colab": {
          "base_uri": "https://localhost:8080/"
        }
      },
      "outputs": [
        {
          "output_type": "stream",
          "name": "stdout",
          "text": [
            "[[200.]\n",
            " [200.]\n",
            " [200.]\n",
            " [200.]\n",
            " [200.]\n",
            " [200.]\n",
            " [200.]\n",
            " [200.]\n",
            " [200.]\n",
            " [200.]\n",
            " [200.]\n",
            " [200.]\n",
            " [200.]\n",
            " [200.]\n",
            " [200.]\n",
            " [200.]\n",
            " [200.]\n",
            " [200.]\n",
            " [200.]\n",
            " [200.]]\n"
          ]
        }
      ],
      "source": [
        "p, n = 10, 20\n",
        "M = np.ones((p,n,n))\n",
        "V = np.ones((p,n,1))\n",
        "S = np.tensordot(M, V, axes=[[0, 2], [0, 1]])\n",
        "print(S)\n",
        "\n",
        "# It works, because:\n",
        "# M is (p,n,n)\n",
        "# V is (p,n,1)\n",
        "# Thus, summing over the paired axes 0 and 0 (of M and V independently),\n",
        "# and 2 and 1, to remain with a (n,1) vector."
      ]
    },
    {
      "cell_type": "markdown",
      "id": "5afb72c8",
      "metadata": {
        "id": "5afb72c8"
      },
      "source": [
        "#### 87. Consider a 16x16 array, how to get the block-sum (block size is 4x4)? (★★★)"
      ]
    },
    {
      "cell_type": "code",
      "execution_count": null,
      "id": "e86f47a9",
      "metadata": {
        "id": "e86f47a9",
        "outputId": "546c762b-b33d-4e2b-c209-be3d755680a0",
        "colab": {
          "base_uri": "https://localhost:8080/"
        }
      },
      "outputs": [
        {
          "output_type": "stream",
          "name": "stdout",
          "text": [
            "input array\n",
            "[[1. 1. 1. 1. 1. 1. 1. 1. 1. 1. 1. 1. 1. 1. 1. 1.]\n",
            " [1. 1. 1. 1. 1. 1. 1. 1. 1. 1. 1. 1. 1. 1. 1. 1.]\n",
            " [1. 1. 1. 1. 1. 1. 1. 1. 1. 1. 1. 1. 1. 1. 1. 1.]\n",
            " [1. 1. 1. 1. 1. 1. 1. 1. 1. 1. 1. 1. 1. 1. 1. 1.]\n",
            " [1. 1. 1. 1. 1. 1. 1. 1. 1. 1. 1. 1. 1. 1. 1. 1.]\n",
            " [1. 1. 1. 1. 1. 1. 1. 1. 1. 1. 1. 1. 1. 1. 1. 1.]\n",
            " [1. 1. 1. 1. 1. 1. 1. 1. 1. 1. 1. 1. 1. 1. 1. 1.]\n",
            " [1. 1. 1. 1. 1. 1. 1. 1. 1. 1. 1. 1. 1. 1. 1. 1.]\n",
            " [1. 1. 1. 1. 1. 1. 1. 1. 1. 1. 1. 1. 1. 1. 1. 1.]\n",
            " [1. 1. 1. 1. 1. 1. 1. 1. 1. 1. 1. 1. 1. 1. 1. 1.]\n",
            " [1. 1. 1. 1. 1. 1. 1. 1. 1. 1. 1. 1. 1. 1. 1. 1.]\n",
            " [1. 1. 1. 1. 1. 1. 1. 1. 1. 1. 1. 1. 1. 1. 1. 1.]\n",
            " [1. 1. 1. 1. 1. 1. 1. 1. 1. 1. 1. 1. 1. 1. 1. 1.]\n",
            " [1. 1. 1. 1. 1. 1. 1. 1. 1. 1. 1. 1. 1. 1. 1. 1.]\n",
            " [1. 1. 1. 1. 1. 1. 1. 1. 1. 1. 1. 1. 1. 1. 1. 1.]\n",
            " [1. 1. 1. 1. 1. 1. 1. 1. 1. 1. 1. 1. 1. 1. 1. 1.]]\n",
            "block sum\n",
            "[[16. 16. 16. 16.]\n",
            " [16. 16. 16. 16.]\n",
            " [16. 16. 16. 16.]\n",
            " [16. 16. 16. 16.]]\n"
          ]
        }
      ],
      "source": [
        "Z = np.ones((16,16))\n",
        "k = 4\n",
        "S = np.add.reduceat(np.add.reduceat(Z, np.arange(0, Z.shape[0], k), axis=0),\n",
        "                                       np.arange(0, Z.shape[1], k), axis=1)\n",
        "print ('input array')\n",
        "print (Z)\n",
        "print ('block sum')\n",
        "print (S)"
      ]
    },
    {
      "cell_type": "markdown",
      "id": "6094d37c",
      "metadata": {
        "id": "6094d37c"
      },
      "source": [
        "#### 88. How to implement the Game of Life using numpy arrays? (★★★)"
      ]
    },
    {
      "cell_type": "code",
      "execution_count": null,
      "id": "a93e715f",
      "metadata": {
        "id": "a93e715f"
      },
      "outputs": [],
      "source": [
        "def iterate(Z):\n",
        "    # Count neighbours\n",
        "    N = (Z[0:-2,0:-2] + Z[0:-2,1:-1] + Z[0:-2,2:] +\n",
        "         Z[1:-1,0:-2]                + Z[1:-1,2:] +\n",
        "         Z[2:  ,0:-2] + Z[2:  ,1:-1] + Z[2:  ,2:])\n",
        "\n",
        "    # Apply rules\n",
        "    birth = (N==3) & (Z[1:-1,1:-1]==0)\n",
        "    survive = ((N==2) | (N==3)) & (Z[1:-1,1:-1]==1)\n",
        "    Z[...] = 0\n",
        "    Z[1:-1,1:-1][birth | survive] = 1\n",
        "    return Z\n",
        "\n",
        "Z = np.random.randint(0,2,(50,50))\n",
        "for i in range(100): Z = iterate(Z)"
      ]
    },
    {
      "cell_type": "markdown",
      "id": "a173cf96",
      "metadata": {
        "id": "a173cf96"
      },
      "source": [
        "#### 89. How to get the n largest values of an array (★★★)"
      ]
    },
    {
      "cell_type": "code",
      "execution_count": null,
      "id": "b7c2ff35",
      "metadata": {
        "id": "b7c2ff35",
        "outputId": "ee51bbc2-2aec-436c-9dee-649124229ec9",
        "colab": {
          "base_uri": "https://localhost:8080/"
        }
      },
      "outputs": [
        {
          "output_type": "stream",
          "name": "stdout",
          "text": [
            "[9995 9996 9997 9998 9999]\n",
            "[9997 9998 9999 9996 9995]\n"
          ]
        }
      ],
      "source": [
        "Z = np.arange(10000)\n",
        "np.random.shuffle(Z)\n",
        "n = 5\n",
        "\n",
        "# Slow\n",
        "print (Z[np.argsort(Z)[-n:]])\n",
        "\n",
        "# Fast\n",
        "print (Z[np.argpartition(-Z,n)[:n]])"
      ]
    },
    {
      "cell_type": "markdown",
      "id": "15db2d01",
      "metadata": {
        "id": "15db2d01"
      },
      "source": [
        "#### 90. Given an arbitrary number of vectors, build the cartesian product (every combinations of every item) (★★★)"
      ]
    },
    {
      "cell_type": "code",
      "execution_count": null,
      "id": "a9a4633d",
      "metadata": {
        "id": "a9a4633d",
        "outputId": "da270c58-d65b-4b02-9c73-52c2a5b9fa7b",
        "colab": {
          "base_uri": "https://localhost:8080/"
        }
      },
      "outputs": [
        {
          "output_type": "stream",
          "name": "stdout",
          "text": [
            "[[1 4 6]\n",
            " [1 4 7]\n",
            " [1 5 6]\n",
            " [1 5 7]\n",
            " [2 4 6]\n",
            " [2 4 7]\n",
            " [2 5 6]\n",
            " [2 5 7]\n",
            " [3 4 6]\n",
            " [3 4 7]\n",
            " [3 5 6]\n",
            " [3 5 7]]\n"
          ]
        }
      ],
      "source": [
        "def cartesian(arrays):\n",
        "    arrays = [np.asarray(a) for a in arrays]\n",
        "    shape = (len(x) for x in arrays)\n",
        "\n",
        "    ix = np.indices(shape, dtype=int)\n",
        "    ix = ix.reshape(len(arrays), -1).T\n",
        "\n",
        "    for n, arr in enumerate(arrays):\n",
        "        ix[:, n] = arrays[n][ix[:, n]]\n",
        "\n",
        "    return ix\n",
        "\n",
        "print (cartesian(([1, 2, 3], [4, 5], [6, 7])))"
      ]
    },
    {
      "cell_type": "markdown",
      "id": "5d94d1ef",
      "metadata": {
        "id": "5d94d1ef"
      },
      "source": [
        "#### 91. How to create a record array from a regular array? (★★★)"
      ]
    },
    {
      "cell_type": "code",
      "execution_count": null,
      "id": "b1dae380",
      "metadata": {
        "id": "b1dae380"
      },
      "outputs": [],
      "source": [
        "Z = np.array([(\"Hello\", 2.5, 3),\n",
        "              (\"World\", 3.6, 2)])\n",
        "R = np.core.records.fromarrays(Z.T,\n",
        "                               names='col1, col2, col3',\n",
        "                               formats = 'S8, f8, i8')"
      ]
    },
    {
      "cell_type": "markdown",
      "id": "114ccc36",
      "metadata": {
        "id": "114ccc36"
      },
      "source": [
        "#### 92. Consider a large vector Z, compute Z to the power of 3 using 3 different methods (★★★)"
      ]
    },
    {
      "cell_type": "code",
      "source": [
        "import numpy as np\n",
        "\n",
        "# Create a large vector Z\n",
        "Z = np.array([1, 2, 3, 4, 5])\n",
        "\n",
        "# Compute Z to the power of 3 using numpy.power\n",
        "result1 = np.power(Z, 3)"
      ],
      "metadata": {
        "id": "CyFzKpOo-RsO"
      },
      "id": "CyFzKpOo-RsO",
      "execution_count": null,
      "outputs": []
    },
    {
      "cell_type": "markdown",
      "id": "d614fee4",
      "metadata": {
        "id": "d614fee4"
      },
      "source": [
        "#### 93. Consider two arrays A and B of shape (8,3) and (2,2). How to find rows of A that contain elements of each row of B regardless of the order of the elements in B? (★★★)"
      ]
    },
    {
      "cell_type": "code",
      "execution_count": null,
      "id": "e6807a84",
      "metadata": {
        "id": "e6807a84",
        "outputId": "e0c5cfd9-5241-4542-f44a-ada8bc9aa968",
        "colab": {
          "base_uri": "https://localhost:8080/"
        }
      },
      "outputs": [
        {
          "output_type": "stream",
          "name": "stdout",
          "text": [
            "[0 1 3 4 7]\n"
          ]
        }
      ],
      "source": [
        "A = np.random.randint(0,5,(8,3))\n",
        "B = np.random.randint(0,5,(2,2))\n",
        "\n",
        "C = (A[..., np.newaxis, np.newaxis] == B)\n",
        "rows = (C.sum(axis=(1,2,3)) >= B.shape[1]).nonzero()[0]\n",
        "print(rows)"
      ]
    },
    {
      "cell_type": "markdown",
      "id": "b0eedca6",
      "metadata": {
        "id": "b0eedca6"
      },
      "source": [
        "#### 94. Considering a 10x3 matrix, extract rows with unequal values (e.g. [2,2,3]) (★★★)"
      ]
    },
    {
      "cell_type": "code",
      "execution_count": null,
      "id": "fc136ce2",
      "metadata": {
        "id": "fc136ce2",
        "colab": {
          "base_uri": "https://localhost:8080/"
        },
        "outputId": "548ad37d-128b-4e28-8f61-251e61000f4b"
      },
      "outputs": [
        {
          "output_type": "stream",
          "name": "stdout",
          "text": [
            "[[0 0 0]\n",
            " [4 0 4]\n",
            " [1 2 0]\n",
            " [4 1 3]\n",
            " [2 3 0]\n",
            " [4 3 3]\n",
            " [3 4 4]\n",
            " [2 4 2]\n",
            " [2 3 3]\n",
            " [3 4 0]]\n",
            "[[4 0 4]\n",
            " [1 2 0]\n",
            " [4 1 3]\n",
            " [2 3 0]\n",
            " [4 3 3]\n",
            " [3 4 4]\n",
            " [2 4 2]\n",
            " [2 3 3]\n",
            " [3 4 0]]\n"
          ]
        }
      ],
      "source": [
        "Z = np.random.randint(0,5,(10,3))\n",
        "E = np.logical_and.reduce(Z[:,1:] == Z[:,:-1], axis=1)\n",
        "U = Z[~E]\n",
        "print(Z)\n",
        "print(U)"
      ]
    },
    {
      "cell_type": "markdown",
      "id": "a65ec1cf",
      "metadata": {
        "id": "a65ec1cf"
      },
      "source": [
        "#### 95. Convert a vector of ints into a matrix binary representation (★★★)"
      ]
    },
    {
      "cell_type": "code",
      "execution_count": null,
      "id": "323cdf4c",
      "metadata": {
        "id": "323cdf4c",
        "colab": {
          "base_uri": "https://localhost:8080/"
        },
        "outputId": "a4cde301-a9f6-4b4e-889e-1d57cfdb7afb"
      },
      "outputs": [
        {
          "output_type": "stream",
          "name": "stdout",
          "text": [
            "[[0 0 0 0 0 0 0 0]\n",
            " [0 0 0 0 0 0 0 1]\n",
            " [0 0 0 0 0 0 1 0]\n",
            " [0 0 0 0 0 0 1 1]\n",
            " [0 0 0 0 1 1 1 1]\n",
            " [0 0 0 1 0 0 0 0]\n",
            " [0 0 1 0 0 0 0 0]\n",
            " [0 1 0 0 0 0 0 0]\n",
            " [1 0 0 0 0 0 0 0]]\n",
            "[[0 0 0 0 0 0 0 0]\n",
            " [0 0 0 0 0 0 0 1]\n",
            " [0 0 0 0 0 0 1 0]\n",
            " [0 0 0 0 0 0 1 1]\n",
            " [0 0 0 0 1 1 1 1]\n",
            " [0 0 0 1 0 0 0 0]\n",
            " [0 0 1 0 0 0 0 0]\n",
            " [0 1 0 0 0 0 0 0]\n",
            " [1 0 0 0 0 0 0 0]]\n"
          ]
        }
      ],
      "source": [
        "I = np.array([0, 1, 2, 3, 15, 16, 32, 64, 128])\n",
        "B = ((I.reshape(-1,1) & (2**np.arange(8))) != 0).astype(int)\n",
        "print(B[:,::-1])\n",
        "\n",
        "# Author: Daniel T. McDonald\n",
        "\n",
        "I = np.array([0, 1, 2, 3, 15, 16, 32, 64, 128], dtype=np.uint8)\n",
        "print(np.unpackbits(I[:, np.newaxis], axis=1))"
      ]
    },
    {
      "cell_type": "markdown",
      "id": "75b9397f",
      "metadata": {
        "id": "75b9397f"
      },
      "source": [
        "#### 96. Given a two dimensional array, how to extract unique rows? (★★★)"
      ]
    },
    {
      "cell_type": "code",
      "execution_count": null,
      "id": "9bb56a47",
      "metadata": {
        "id": "9bb56a47",
        "colab": {
          "base_uri": "https://localhost:8080/"
        },
        "outputId": "2f7d0b64-ea41-4c54-aec0-ee64bff47bf2"
      },
      "outputs": [
        {
          "output_type": "stream",
          "name": "stdout",
          "text": [
            "[[0 0 0]\n",
            " [0 1 0]\n",
            " [0 1 1]\n",
            " [1 0 0]\n",
            " [1 0 1]]\n"
          ]
        }
      ],
      "source": [
        "Z = np.random.randint(0,2,(6,3))\n",
        "T = np.ascontiguousarray(Z).view(np.dtype((np.void, Z.dtype.itemsize * Z.shape[1])))\n",
        "_, idx = np.unique(T, return_index=True)\n",
        "uZ = Z[idx]\n",
        "print(uZ)"
      ]
    },
    {
      "cell_type": "markdown",
      "id": "82aaf21b",
      "metadata": {
        "id": "82aaf21b"
      },
      "source": [
        "#### 97. Considering 2 vectors A & B, write the einsum equivalent of inner, outer, sum, and mul function (★★★)"
      ]
    },
    {
      "cell_type": "code",
      "execution_count": null,
      "id": "cedcefd9",
      "metadata": {
        "id": "cedcefd9",
        "colab": {
          "base_uri": "https://localhost:8080/"
        },
        "outputId": "64d49e2e-5161-4211-f9c0-0f67d93a78d5"
      },
      "outputs": [
        {
          "output_type": "stream",
          "name": "stdout",
          "text": [
            "[0 1 2]\n"
          ]
        }
      ],
      "source": [
        "A= np.arange(3)\n",
        "B =  np.arange(12).reshape(3,4)\n",
        "print (A)\n",
        "#np.einsum('ii->', A)       # np.sum(A)\n",
        "#np.einsum('i,i->i', A, B) # A * B\n",
        "#np.einsum('i,i', A, B)    # np.inner(A, B)\n",
        "#np.einsum('...i,j', A, B)    # np.outer(A, B)"
      ]
    },
    {
      "cell_type": "markdown",
      "id": "7741e17f",
      "metadata": {
        "id": "7741e17f"
      },
      "source": [
        "#### 98. Considering a path described by two vectors (X,Y), how to sample it using equidistant samples (★★★)?"
      ]
    },
    {
      "cell_type": "code",
      "execution_count": null,
      "id": "0b2432fe",
      "metadata": {
        "id": "0b2432fe"
      },
      "outputs": [],
      "source": [
        "phi = np.arange(0, 10*np.pi, 0.1)\n",
        "a = 1\n",
        "x = a*phi*np.cos(phi)\n",
        "y = a*phi*np.sin(phi)\n",
        "\n",
        "dr = (np.diff(x)**2 + np.diff(y)**2)**.5 # segment lengths\n",
        "r = np.zeros_like(x)\n",
        "r[1:] = np.cumsum(dr)                # integrate path\n",
        "r_int = np.linspace(0, r.max(), 200) # regular spaced path\n",
        "x_int = np.interp(r_int, r, x)       # integrate path\n",
        "y_int = np.interp(r_int, r, y)"
      ]
    },
    {
      "cell_type": "markdown",
      "id": "340d6f36",
      "metadata": {
        "id": "340d6f36"
      },
      "source": [
        "#### 99. Given an integer n and a 2D array X, select from X the rows which can be interpreted as draws from a multinomial distribution with n degrees, i.e., the rows which only contain integers and which sum to n. (★★★)"
      ]
    },
    {
      "cell_type": "code",
      "execution_count": null,
      "id": "a75323ae",
      "metadata": {
        "id": "a75323ae",
        "colab": {
          "base_uri": "https://localhost:8080/"
        },
        "outputId": "a29de456-4137-4b04-dd90-50aa9c5d367a"
      },
      "outputs": [
        {
          "output_type": "stream",
          "name": "stdout",
          "text": [
            "[[2. 0. 1. 1.]]\n"
          ]
        }
      ],
      "source": [
        "# Author: Evgeni Burovski\n",
        "\n",
        "X = np.asarray([[1.0, 0.0, 3.0, 8.0],\n",
        "                [2.0, 0.0, 1.0, 1.0],\n",
        "                [1.5, 2.5, 1.0, 0.0]])\n",
        "n = 4\n",
        "M = np.logical_and.reduce(np.mod(X, 1) == 0, axis=-1)\n",
        "M &= (X.sum(axis=-1) == n)\n",
        "print(X[M])"
      ]
    },
    {
      "cell_type": "markdown",
      "id": "19721849",
      "metadata": {
        "id": "19721849"
      },
      "source": [
        "#### 100. Compute bootstrapped 95% confidence intervals for the mean of a 1D array X (i.e., resample the elements of an array with replacement N times, compute the mean of each sample, and then compute percentiles over the means). (★★★)"
      ]
    },
    {
      "cell_type": "code",
      "execution_count": null,
      "id": "87309c6f",
      "metadata": {
        "id": "87309c6f",
        "colab": {
          "base_uri": "https://localhost:8080/"
        },
        "outputId": "db038078-db4d-4279-a8a7-beecd9aab6d7"
      },
      "outputs": [
        {
          "output_type": "stream",
          "name": "stdout",
          "text": [
            "[-0.18865687  0.22068007]\n"
          ]
        }
      ],
      "source": [
        "# Author: Jessica B. Hamrick\n",
        "\n",
        "X = np.random.randn(100) # random 1D array\n",
        "N = 1000 # number of bootstrap samples\n",
        "idx = np.random.randint(0, X.size, (N, X.size))\n",
        "means = X[idx].mean(axis=1)\n",
        "confint = np.percentile(means, [2.5, 97.5])\n",
        "print(confint)"
      ]
    }
  ],
  "metadata": {
    "colab": {
      "provenance": [],
      "collapsed_sections": [
        "11727a69"
      ],
      "include_colab_link": true
    },
    "language_info": {
      "name": "python"
    },
    "kernelspec": {
      "name": "python3",
      "display_name": "Python 3"
    }
  },
  "nbformat": 4,
  "nbformat_minor": 5
}